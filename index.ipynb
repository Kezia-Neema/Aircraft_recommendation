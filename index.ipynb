{
 "cells": [
  {
   "cell_type": "markdown",
   "metadata": {},
   "source": [
    "# Table of Content\n",
    "- [Overview](#Overview)\n",
    "- [Tableau](https://public.tableau.com/app/profile/kezia.neema/viz/Aircraft_accidents_analysis/Aircraftaccidentdash?publish=yes)\n",
    "- [Final Recommendation](#Final-recommendation)"
   ]
  },
  {
   "cell_type": "markdown",
   "metadata": {},
   "source": [
    "# Overview\n",
    "To address the business problem of identifying the lowest risk aircraft for the company's new aviation division, we will perform a comprehensive analysis of the aviation accident data provided by the National Transportation Safety Board (NTSB). Here's a detailed outline of our approach, including the deliverables and the insights we aim to derive.\n",
    "\n",
    "Project Outline\n",
    "1. **Data Exploration and Preparation**\n",
    "    - Data Loading: Load the dataset and explore its structure, including the range of years, types of aircraft, and nature of incidents.\n",
    "    - Data Cleaning: Handle missing values appropriately (e.g., imputation, removal) and ensure data consistency.\n",
    "    - Data Transformation: Aggregate data by aircraft model, manufacturer, and other relevant attributes to facilitate analysis.\n",
    "\n",
    "2. **Risk Assessment Analysis**\n",
    "    - Accident Frequency: Calculate the number of accidents per aircraft model and manufacturer.\n",
    "    - Severity of Accidents: Evaluate the severity of accidents (fatalities, injuries, damages) and categorize them.\n",
    "    - Incident Types: Analyze common causes of incidents and accidents to identify patterns or frequent issues.\n",
    "\n",
    "3. **Data Visualization and Insights**\n",
    "    - Interactive Dashboard: Create an interactive dashboard using a tool like Plotly Dash or Power BI, allowing users to explore accident data by aircraft model, year, manufacturer, and other filters.\n",
    "    - Visualizations:\n",
    "        - Bar charts showing accident frequency by aircraft model and manufacturer.\n",
    "        - Line graphs depicting trends in accident rates over time.\n",
    "        - Heatmaps or bubble charts illustrating the severity and types of incidents.\n",
    "4. Business Recommendations\n",
    "    - Based on the analysis, we will formulate three concrete business recommendations for the head of the new aviation division"
   ]
  },
  {
   "cell_type": "markdown",
   "metadata": {},
   "source": [
    "## Business Understanding\n",
    "In an effort to diversify its holdings, the business is entering the aviation sector with the goal of buying and managing aircraft for both public and private companies. Entering this strictly regulated and safety-sensitive sector, however, carries a considerable chance of mishaps and mishaps.\n",
    "\n",
    "The business must carefully evaluate and reduce these risks by choosing aircraft models that have been shown to be dependable and safe in order to guarantee a successful entry. In order to find trends, comprehend recurring causes of mishaps, and ascertain which aircraft type and manufacturers have the best safety records, this entails studying historical data on aviation accidents.\n",
    "\n",
    "The business may reduce possible risks, guarantee passenger safety, and establish a respectable and prosperous aviation segment by making data-driven decisions. \n",
    "\n",
    "By giving the head of the new aviation business practical advice and insights on which aircraft to buy, the company hopes to establish itself as a leader in the aviation industry for the long run."
   ]
  },
  {
   "cell_type": "markdown",
   "metadata": {},
   "source": [
    "## Data Understanding\n",
    "We are working with data from [Kaggle](https://www.kaggle.com/datasets/khsamaha/aviation-accident-database-synopses) which contains information from 1962 and later about civil aviation accidents and selected incidents within the United States, its territories and possessions, and in international waters.\n",
    "\n",
    "The data is contained in a csv file:\n",
    "- AviationData.csv: Each record represents an accident with details about the accident"
   ]
  },
  {
   "cell_type": "markdown",
   "metadata": {},
   "source": [
    "### Data Exploration and Preparation\n",
    "- Data Loading: Load the dataset and explore its structure, including the range of years, types of aircraft, and nature of incidents.\n",
    "- Data Cleaning: Handle missing values appropriately (e.g., imputation, removal) and ensure data consistency.\n",
    "- Data Transformation: Aggregate data by aircraft model, manufacturer, and other relevant attributes to facilitate analysis."
   ]
  },
  {
   "cell_type": "markdown",
   "metadata": {},
   "source": [
    "### Loading Data with Pandas"
   ]
  },
  {
   "cell_type": "code",
   "execution_count": 37,
   "metadata": {},
   "outputs": [],
   "source": [
    "# Importing modules\n",
    "import pandas as pd \n",
    "import matplotlib.pyplot as plt \n",
    "import seaborn as sns\n",
    "import numpy as np"
   ]
  },
  {
   "cell_type": "code",
   "execution_count": 38,
   "metadata": {},
   "outputs": [
    {
     "name": "stderr",
     "output_type": "stream",
     "text": [
      "c:\\Users\\navil\\anaconda3\\envs\\learn-env\\lib\\site-packages\\IPython\\core\\interactiveshell.py:3145: DtypeWarning: Columns (6,7,28) have mixed types.Specify dtype option on import or set low_memory=False.\n",
      "  has_raised = await self.run_ast_nodes(code_ast.body, cell_name,\n"
     ]
    },
    {
     "data": {
      "text/html": [
       "<div>\n",
       "<style scoped>\n",
       "    .dataframe tbody tr th:only-of-type {\n",
       "        vertical-align: middle;\n",
       "    }\n",
       "\n",
       "    .dataframe tbody tr th {\n",
       "        vertical-align: top;\n",
       "    }\n",
       "\n",
       "    .dataframe thead th {\n",
       "        text-align: right;\n",
       "    }\n",
       "</style>\n",
       "<table border=\"1\" class=\"dataframe\">\n",
       "  <thead>\n",
       "    <tr style=\"text-align: right;\">\n",
       "      <th></th>\n",
       "      <th>Event.Id</th>\n",
       "      <th>Investigation.Type</th>\n",
       "      <th>Accident.Number</th>\n",
       "      <th>Event.Date</th>\n",
       "      <th>Location</th>\n",
       "      <th>Country</th>\n",
       "      <th>Latitude</th>\n",
       "      <th>Longitude</th>\n",
       "      <th>Airport.Code</th>\n",
       "      <th>Airport.Name</th>\n",
       "      <th>...</th>\n",
       "      <th>Purpose.of.flight</th>\n",
       "      <th>Air.carrier</th>\n",
       "      <th>Total.Fatal.Injuries</th>\n",
       "      <th>Total.Serious.Injuries</th>\n",
       "      <th>Total.Minor.Injuries</th>\n",
       "      <th>Total.Uninjured</th>\n",
       "      <th>Weather.Condition</th>\n",
       "      <th>Broad.phase.of.flight</th>\n",
       "      <th>Report.Status</th>\n",
       "      <th>Publication.Date</th>\n",
       "    </tr>\n",
       "  </thead>\n",
       "  <tbody>\n",
       "    <tr>\n",
       "      <th>0</th>\n",
       "      <td>20001218X45444</td>\n",
       "      <td>Accident</td>\n",
       "      <td>SEA87LA080</td>\n",
       "      <td>1948-10-24</td>\n",
       "      <td>MOOSE CREEK, ID</td>\n",
       "      <td>United States</td>\n",
       "      <td>NaN</td>\n",
       "      <td>NaN</td>\n",
       "      <td>NaN</td>\n",
       "      <td>NaN</td>\n",
       "      <td>...</td>\n",
       "      <td>Personal</td>\n",
       "      <td>NaN</td>\n",
       "      <td>2.0</td>\n",
       "      <td>0.0</td>\n",
       "      <td>0.0</td>\n",
       "      <td>0.0</td>\n",
       "      <td>UNK</td>\n",
       "      <td>Cruise</td>\n",
       "      <td>Probable Cause</td>\n",
       "      <td>NaN</td>\n",
       "    </tr>\n",
       "    <tr>\n",
       "      <th>1</th>\n",
       "      <td>20001218X45447</td>\n",
       "      <td>Accident</td>\n",
       "      <td>LAX94LA336</td>\n",
       "      <td>1962-07-19</td>\n",
       "      <td>BRIDGEPORT, CA</td>\n",
       "      <td>United States</td>\n",
       "      <td>NaN</td>\n",
       "      <td>NaN</td>\n",
       "      <td>NaN</td>\n",
       "      <td>NaN</td>\n",
       "      <td>...</td>\n",
       "      <td>Personal</td>\n",
       "      <td>NaN</td>\n",
       "      <td>4.0</td>\n",
       "      <td>0.0</td>\n",
       "      <td>0.0</td>\n",
       "      <td>0.0</td>\n",
       "      <td>UNK</td>\n",
       "      <td>Unknown</td>\n",
       "      <td>Probable Cause</td>\n",
       "      <td>19-09-1996</td>\n",
       "    </tr>\n",
       "    <tr>\n",
       "      <th>2</th>\n",
       "      <td>20061025X01555</td>\n",
       "      <td>Accident</td>\n",
       "      <td>NYC07LA005</td>\n",
       "      <td>1974-08-30</td>\n",
       "      <td>Saltville, VA</td>\n",
       "      <td>United States</td>\n",
       "      <td>36.9222</td>\n",
       "      <td>-81.8781</td>\n",
       "      <td>NaN</td>\n",
       "      <td>NaN</td>\n",
       "      <td>...</td>\n",
       "      <td>Personal</td>\n",
       "      <td>NaN</td>\n",
       "      <td>3.0</td>\n",
       "      <td>NaN</td>\n",
       "      <td>NaN</td>\n",
       "      <td>NaN</td>\n",
       "      <td>IMC</td>\n",
       "      <td>Cruise</td>\n",
       "      <td>Probable Cause</td>\n",
       "      <td>26-02-2007</td>\n",
       "    </tr>\n",
       "    <tr>\n",
       "      <th>3</th>\n",
       "      <td>20001218X45448</td>\n",
       "      <td>Accident</td>\n",
       "      <td>LAX96LA321</td>\n",
       "      <td>1977-06-19</td>\n",
       "      <td>EUREKA, CA</td>\n",
       "      <td>United States</td>\n",
       "      <td>NaN</td>\n",
       "      <td>NaN</td>\n",
       "      <td>NaN</td>\n",
       "      <td>NaN</td>\n",
       "      <td>...</td>\n",
       "      <td>Personal</td>\n",
       "      <td>NaN</td>\n",
       "      <td>2.0</td>\n",
       "      <td>0.0</td>\n",
       "      <td>0.0</td>\n",
       "      <td>0.0</td>\n",
       "      <td>IMC</td>\n",
       "      <td>Cruise</td>\n",
       "      <td>Probable Cause</td>\n",
       "      <td>12-09-2000</td>\n",
       "    </tr>\n",
       "    <tr>\n",
       "      <th>4</th>\n",
       "      <td>20041105X01764</td>\n",
       "      <td>Accident</td>\n",
       "      <td>CHI79FA064</td>\n",
       "      <td>1979-08-02</td>\n",
       "      <td>Canton, OH</td>\n",
       "      <td>United States</td>\n",
       "      <td>NaN</td>\n",
       "      <td>NaN</td>\n",
       "      <td>NaN</td>\n",
       "      <td>NaN</td>\n",
       "      <td>...</td>\n",
       "      <td>Personal</td>\n",
       "      <td>NaN</td>\n",
       "      <td>1.0</td>\n",
       "      <td>2.0</td>\n",
       "      <td>NaN</td>\n",
       "      <td>0.0</td>\n",
       "      <td>VMC</td>\n",
       "      <td>Approach</td>\n",
       "      <td>Probable Cause</td>\n",
       "      <td>16-04-1980</td>\n",
       "    </tr>\n",
       "  </tbody>\n",
       "</table>\n",
       "<p>5 rows × 31 columns</p>\n",
       "</div>"
      ],
      "text/plain": [
       "         Event.Id Investigation.Type Accident.Number  Event.Date  \\\n",
       "0  20001218X45444           Accident      SEA87LA080  1948-10-24   \n",
       "1  20001218X45447           Accident      LAX94LA336  1962-07-19   \n",
       "2  20061025X01555           Accident      NYC07LA005  1974-08-30   \n",
       "3  20001218X45448           Accident      LAX96LA321  1977-06-19   \n",
       "4  20041105X01764           Accident      CHI79FA064  1979-08-02   \n",
       "\n",
       "          Location        Country Latitude Longitude Airport.Code  \\\n",
       "0  MOOSE CREEK, ID  United States      NaN       NaN          NaN   \n",
       "1   BRIDGEPORT, CA  United States      NaN       NaN          NaN   \n",
       "2    Saltville, VA  United States  36.9222  -81.8781          NaN   \n",
       "3       EUREKA, CA  United States      NaN       NaN          NaN   \n",
       "4       Canton, OH  United States      NaN       NaN          NaN   \n",
       "\n",
       "  Airport.Name  ... Purpose.of.flight Air.carrier Total.Fatal.Injuries  \\\n",
       "0          NaN  ...          Personal         NaN                  2.0   \n",
       "1          NaN  ...          Personal         NaN                  4.0   \n",
       "2          NaN  ...          Personal         NaN                  3.0   \n",
       "3          NaN  ...          Personal         NaN                  2.0   \n",
       "4          NaN  ...          Personal         NaN                  1.0   \n",
       "\n",
       "  Total.Serious.Injuries Total.Minor.Injuries Total.Uninjured  \\\n",
       "0                    0.0                  0.0             0.0   \n",
       "1                    0.0                  0.0             0.0   \n",
       "2                    NaN                  NaN             NaN   \n",
       "3                    0.0                  0.0             0.0   \n",
       "4                    2.0                  NaN             0.0   \n",
       "\n",
       "  Weather.Condition  Broad.phase.of.flight   Report.Status Publication.Date  \n",
       "0               UNK                 Cruise  Probable Cause              NaN  \n",
       "1               UNK                Unknown  Probable Cause       19-09-1996  \n",
       "2               IMC                 Cruise  Probable Cause       26-02-2007  \n",
       "3               IMC                 Cruise  Probable Cause       12-09-2000  \n",
       "4               VMC               Approach  Probable Cause       16-04-1980  \n",
       "\n",
       "[5 rows x 31 columns]"
      ]
     },
     "execution_count": 38,
     "metadata": {},
     "output_type": "execute_result"
    }
   ],
   "source": [
    "# Load the data\n",
    "df = pd.read_csv('AviationData.csv', encoding='cp1252')\n",
    "df.head()"
   ]
  },
  {
   "cell_type": "markdown",
   "metadata": {},
   "source": [
    "### Data Exploration and Cleaning"
   ]
  },
  {
   "cell_type": "code",
   "execution_count": 39,
   "metadata": {},
   "outputs": [
    {
     "name": "stdout",
     "output_type": "stream",
     "text": [
      "<class 'pandas.core.frame.DataFrame'>\n",
      "RangeIndex: 88889 entries, 0 to 88888\n",
      "Data columns (total 31 columns):\n",
      " #   Column                  Non-Null Count  Dtype  \n",
      "---  ------                  --------------  -----  \n",
      " 0   Event.Id                88889 non-null  object \n",
      " 1   Investigation.Type      88889 non-null  object \n",
      " 2   Accident.Number         88889 non-null  object \n",
      " 3   Event.Date              88889 non-null  object \n",
      " 4   Location                88837 non-null  object \n",
      " 5   Country                 88663 non-null  object \n",
      " 6   Latitude                34382 non-null  object \n",
      " 7   Longitude               34373 non-null  object \n",
      " 8   Airport.Code            50249 non-null  object \n",
      " 9   Airport.Name            52790 non-null  object \n",
      " 10  Injury.Severity         87889 non-null  object \n",
      " 11  Aircraft.damage         85695 non-null  object \n",
      " 12  Aircraft.Category       32287 non-null  object \n",
      " 13  Registration.Number     87572 non-null  object \n",
      " 14  Make                    88826 non-null  object \n",
      " 15  Model                   88797 non-null  object \n",
      " 16  Amateur.Built           88787 non-null  object \n",
      " 17  Number.of.Engines       82805 non-null  float64\n",
      " 18  Engine.Type             81812 non-null  object \n",
      " 19  FAR.Description         32023 non-null  object \n",
      " 20  Schedule                12582 non-null  object \n",
      " 21  Purpose.of.flight       82697 non-null  object \n",
      " 22  Air.carrier             16648 non-null  object \n",
      " 23  Total.Fatal.Injuries    77488 non-null  float64\n",
      " 24  Total.Serious.Injuries  76379 non-null  float64\n",
      " 25  Total.Minor.Injuries    76956 non-null  float64\n",
      " 26  Total.Uninjured         82977 non-null  float64\n",
      " 27  Weather.Condition       84397 non-null  object \n",
      " 28  Broad.phase.of.flight   61724 non-null  object \n",
      " 29  Report.Status           82508 non-null  object \n",
      " 30  Publication.Date        75118 non-null  object \n",
      "dtypes: float64(5), object(26)\n",
      "memory usage: 21.0+ MB\n"
     ]
    }
   ],
   "source": [
    "df.info()"
   ]
  },
  {
   "cell_type": "markdown",
   "metadata": {},
   "source": [
    "We notice some missing values in some columns and also that the data involves only two datatypes"
   ]
  },
  {
   "cell_type": "code",
   "execution_count": 40,
   "metadata": {},
   "outputs": [
    {
     "data": {
      "text/plain": [
       "0"
      ]
     },
     "execution_count": 40,
     "metadata": {},
     "output_type": "execute_result"
    }
   ],
   "source": [
    "# Check for duplicated rows\n",
    "df.duplicated().sum()"
   ]
  },
  {
   "cell_type": "markdown",
   "metadata": {},
   "source": [
    "Inspecting the columns to check the percentage of missing values in each"
   ]
  },
  {
   "cell_type": "code",
   "execution_count": 41,
   "metadata": {},
   "outputs": [
    {
     "data": {
      "text/plain": [
       "Schedule                  0.858453\n",
       "Air.carrier               0.812710\n",
       "FAR.Description           0.639742\n",
       "Aircraft.Category         0.636772\n",
       "Longitude                 0.613304\n",
       "Latitude                  0.613203\n",
       "Airport.Code              0.434699\n",
       "Airport.Name              0.406113\n",
       "Broad.phase.of.flight     0.305606\n",
       "Publication.Date          0.154924\n",
       "Total.Serious.Injuries    0.140737\n",
       "Total.Minor.Injuries      0.134246\n",
       "Total.Fatal.Injuries      0.128261\n",
       "Engine.Type               0.079616\n",
       "Report.Status             0.071786\n",
       "Purpose.of.flight         0.069660\n",
       "Number.of.Engines         0.068445\n",
       "Total.Uninjured           0.066510\n",
       "Weather.Condition         0.050535\n",
       "Aircraft.damage           0.035932\n",
       "Registration.Number       0.014816\n",
       "Injury.Severity           0.011250\n",
       "Country                   0.002542\n",
       "Amateur.Built             0.001147\n",
       "Model                     0.001035\n",
       "Make                      0.000709\n",
       "Location                  0.000585\n",
       "Event.Date                0.000000\n",
       "Accident.Number           0.000000\n",
       "Investigation.Type        0.000000\n",
       "Event.Id                  0.000000\n",
       "dtype: float64"
      ]
     },
     "execution_count": 41,
     "metadata": {},
     "output_type": "execute_result"
    }
   ],
   "source": [
    "# Check missing values\n",
    "missing_series = df.isna().sum() / len(df)\n",
    "\n",
    "# Sort\n",
    "missing_series.sort_values(ascending=False, inplace=True)\n",
    "missing_series"
   ]
  },
  {
   "cell_type": "markdown",
   "metadata": {},
   "source": [
    "We notice some columns have significant amount of missing data values.\n",
    "Its best to drop the once we dont need for the analysis"
   ]
  },
  {
   "cell_type": "code",
   "execution_count": 42,
   "metadata": {},
   "outputs": [],
   "source": [
    "# Drop columns with many missing values that are not relevant\n",
    "columns_to_drop = ['Schedule', 'Air.carrier', 'FAR.Description', 'Longitude', 'Latitude']\n",
    "\n",
    "df.drop(columns_to_drop, axis=1, inplace=True)"
   ]
  },
  {
   "cell_type": "code",
   "execution_count": 43,
   "metadata": {},
   "outputs": [
    {
     "data": {
      "text/plain": [
       "Aircraft.Category         0.636772\n",
       "Airport.Code              0.434699\n",
       "Airport.Name              0.406113\n",
       "Broad.phase.of.flight     0.305606\n",
       "Publication.Date          0.154924\n",
       "Total.Serious.Injuries    0.140737\n",
       "Total.Minor.Injuries      0.134246\n",
       "Total.Fatal.Injuries      0.128261\n",
       "Engine.Type               0.079616\n",
       "Report.Status             0.071786\n",
       "Purpose.of.flight         0.069660\n",
       "Number.of.Engines         0.068445\n",
       "Total.Uninjured           0.066510\n",
       "Weather.Condition         0.050535\n",
       "Aircraft.damage           0.035932\n",
       "Registration.Number       0.014816\n",
       "Injury.Severity           0.011250\n",
       "Country                   0.002542\n",
       "Amateur.Built             0.001147\n",
       "Model                     0.001035\n",
       "Make                      0.000709\n",
       "Location                  0.000585\n",
       "Event.Date                0.000000\n",
       "Accident.Number           0.000000\n",
       "Investigation.Type        0.000000\n",
       "Event.Id                  0.000000\n",
       "dtype: float64"
      ]
     },
     "execution_count": 43,
     "metadata": {},
     "output_type": "execute_result"
    }
   ],
   "source": [
    "df.isna().sum().sort_values(ascending=False) / len(df)"
   ]
  },
  {
   "cell_type": "markdown",
   "metadata": {},
   "source": [
    "The Aircraft category has a significant amount of missing data but it is important for our analysis. Since it is categorical we can just add another column for missing values"
   ]
  },
  {
   "cell_type": "code",
   "execution_count": 44,
   "metadata": {},
   "outputs": [
    {
     "data": {
      "text/plain": [
       "Airplane             27617\n",
       "Helicopter            3440\n",
       "Glider                 508\n",
       "Balloon                231\n",
       "Gyrocraft              173\n",
       "Weight-Shift           161\n",
       "Powered Parachute       91\n",
       "Ultralight              30\n",
       "Unknown                 14\n",
       "WSFT                     9\n",
       "Powered-Lift             5\n",
       "Blimp                    4\n",
       "UNK                      2\n",
       "ULTR                     1\n",
       "Rocket                   1\n",
       "Name: Aircraft.Category, dtype: int64"
      ]
     },
     "execution_count": 44,
     "metadata": {},
     "output_type": "execute_result"
    }
   ],
   "source": [
    "# Inspect Aircraft.Category\n",
    "df['Aircraft.Category'].value_counts()"
   ]
  },
  {
   "cell_type": "markdown",
   "metadata": {},
   "source": [
    "#### Dropping rows\n",
    "Both make and model columns have few missing values. We decide to drop the few rows with missing values."
   ]
  },
  {
   "cell_type": "code",
   "execution_count": 45,
   "metadata": {},
   "outputs": [
    {
     "data": {
      "text/plain": [
       "Make     0\n",
       "Model    0\n",
       "dtype: int64"
      ]
     },
     "execution_count": 45,
     "metadata": {},
     "output_type": "execute_result"
    }
   ],
   "source": [
    "# Drop rows missing model or make\n",
    "df.dropna(subset=['Make', 'Model'], inplace=True)\n",
    "df[['Make', 'Model']].isna().sum()"
   ]
  },
  {
   "cell_type": "code",
   "execution_count": 46,
   "metadata": {},
   "outputs": [],
   "source": [
    "# Rearrange row index\n",
    "df.reset_index(drop=True, inplace=True)"
   ]
  },
  {
   "cell_type": "code",
   "execution_count": 47,
   "metadata": {},
   "outputs": [
    {
     "data": {
      "text/plain": [
       "No     80240\n",
       "Yes     8438\n",
       "Name: Amateur.Built, dtype: int64"
      ]
     },
     "execution_count": 47,
     "metadata": {},
     "output_type": "execute_result"
    }
   ],
   "source": [
    "df['Amateur.Built'].value_counts()"
   ]
  },
  {
   "cell_type": "markdown",
   "metadata": {},
   "source": [
    "The Amateur.Built column is categorical with only two categories so it is best to impute the missing values with the  mode"
   ]
  },
  {
   "cell_type": "code",
   "execution_count": 48,
   "metadata": {},
   "outputs": [
    {
     "data": {
      "text/plain": [
       "0    No\n",
       "dtype: object"
      ]
     },
     "execution_count": 48,
     "metadata": {},
     "output_type": "execute_result"
    }
   ],
   "source": [
    "# Check amateuer built column\n",
    "df['Amateur.Built'].mode()"
   ]
  },
  {
   "cell_type": "code",
   "execution_count": 49,
   "metadata": {},
   "outputs": [
    {
     "data": {
      "text/plain": [
       "0"
      ]
     },
     "execution_count": 49,
     "metadata": {},
     "output_type": "execute_result"
    }
   ],
   "source": [
    "# fill the column with the mode\n",
    "df['Amateur.Built'].fillna(df['Amateur.Built'].mode()[0], inplace=True)\n",
    "df['Amateur.Built'].isna().sum()"
   ]
  },
  {
   "cell_type": "markdown",
   "metadata": {},
   "source": [
    "#### Imputing with the mean\n",
    "The four colums with info about injuries have continuous data so we decide to impute the missing values with the means"
   ]
  },
  {
   "cell_type": "code",
   "execution_count": 50,
   "metadata": {},
   "outputs": [],
   "source": [
    "# Imputing with mean\n",
    "df['Total.Fatal.Injuries'].fillna(np.floor(df['Total.Fatal.Injuries'].mean()), inplace=True)\n",
    "df['Total.Minor.Injuries'].fillna(np.floor(df['Total.Minor.Injuries'].mean()), inplace=True)\n",
    "df['Total.Serious.Injuries'].fillna(np.floor(df['Total.Serious.Injuries'].mean()), inplace=True)\n",
    "df['Total.Uninjured'].fillna(np.floor(df['Total.Uninjured'].mean()), inplace=True)"
   ]
  },
  {
   "cell_type": "code",
   "execution_count": 51,
   "metadata": {},
   "outputs": [],
   "source": [
    "# impute number of engines column with mean\n",
    "df['Number.of.Engines'].fillna(np.floor(df['Number.of.Engines'].mean()), inplace=True)"
   ]
  },
  {
   "cell_type": "markdown",
   "metadata": {},
   "source": [
    "#### Handling missing values for remaining categorical columns\n",
    "since the remaining columns are categorical, we decide to impute the missing values with a new category; 'missing'"
   ]
  },
  {
   "cell_type": "code",
   "execution_count": 52,
   "metadata": {},
   "outputs": [],
   "source": [
    "# fill other missing values with 'missing'\n",
    "df.fillna('missing', inplace=True)"
   ]
  },
  {
   "cell_type": "code",
   "execution_count": 53,
   "metadata": {},
   "outputs": [
    {
     "data": {
      "text/plain": [
       "0"
      ]
     },
     "execution_count": 53,
     "metadata": {},
     "output_type": "execute_result"
    }
   ],
   "source": [
    "# Confirm no missing values\n",
    "df.isna().sum().sum()"
   ]
  },
  {
   "cell_type": "markdown",
   "metadata": {},
   "source": [
    "Now we have completed handling all the missing values. Next we continue the exploration"
   ]
  },
  {
   "cell_type": "code",
   "execution_count": 54,
   "metadata": {},
   "outputs": [
    {
     "data": {
      "text/plain": [
       "missing              56532\n",
       "Airplane             27580\n",
       "Helicopter            3435\n",
       "Glider                 508\n",
       "Balloon                231\n",
       "Gyrocraft              173\n",
       "Weight-Shift           161\n",
       "Powered Parachute       91\n",
       "Ultralight              30\n",
       "Unknown                 14\n",
       "WSFT                     9\n",
       "Powered-Lift             5\n",
       "Blimp                    4\n",
       "UNK                      2\n",
       "ULTR                     1\n",
       "Rocket                   1\n",
       "Name: Aircraft.Category, dtype: int64"
      ]
     },
     "execution_count": 54,
     "metadata": {},
     "output_type": "execute_result"
    }
   ],
   "source": [
    "df['Aircraft.Category'].value_counts()"
   ]
  },
  {
   "cell_type": "markdown",
   "metadata": {},
   "source": [
    "Our data contains info about many aircraft categories but our main interest is on Airplanes, so we filter to only work with Airplanes"
   ]
  },
  {
   "cell_type": "code",
   "execution_count": 55,
   "metadata": {},
   "outputs": [],
   "source": [
    "# Filter to get only Airplanes\n",
    "df = df[df['Aircraft.Category'] == 'Airplane']"
   ]
  },
  {
   "cell_type": "markdown",
   "metadata": {},
   "source": [
    "More cleaning"
   ]
  },
  {
   "cell_type": "code",
   "execution_count": 56,
   "metadata": {},
   "outputs": [
    {
     "data": {
      "text/html": [
       "<div>\n",
       "<style scoped>\n",
       "    .dataframe tbody tr th:only-of-type {\n",
       "        vertical-align: middle;\n",
       "    }\n",
       "\n",
       "    .dataframe tbody tr th {\n",
       "        vertical-align: top;\n",
       "    }\n",
       "\n",
       "    .dataframe thead th {\n",
       "        text-align: right;\n",
       "    }\n",
       "</style>\n",
       "<table border=\"1\" class=\"dataframe\">\n",
       "  <thead>\n",
       "    <tr style=\"text-align: right;\">\n",
       "      <th></th>\n",
       "      <th>Injury.Severity</th>\n",
       "      <th>Total.Fatal.Injuries</th>\n",
       "    </tr>\n",
       "  </thead>\n",
       "  <tbody>\n",
       "    <tr>\n",
       "      <th>5</th>\n",
       "      <td>Non-Fatal</td>\n",
       "      <td>0.0</td>\n",
       "    </tr>\n",
       "    <tr>\n",
       "      <th>7</th>\n",
       "      <td>Non-Fatal</td>\n",
       "      <td>0.0</td>\n",
       "    </tr>\n",
       "    <tr>\n",
       "      <th>8</th>\n",
       "      <td>Non-Fatal</td>\n",
       "      <td>0.0</td>\n",
       "    </tr>\n",
       "    <tr>\n",
       "      <th>12</th>\n",
       "      <td>Non-Fatal</td>\n",
       "      <td>0.0</td>\n",
       "    </tr>\n",
       "    <tr>\n",
       "      <th>13</th>\n",
       "      <td>Fatal(1)</td>\n",
       "      <td>1.0</td>\n",
       "    </tr>\n",
       "    <tr>\n",
       "      <th>...</th>\n",
       "      <td>...</td>\n",
       "      <td>...</td>\n",
       "    </tr>\n",
       "    <tr>\n",
       "      <th>88757</th>\n",
       "      <td>Non-Fatal</td>\n",
       "      <td>0.0</td>\n",
       "    </tr>\n",
       "    <tr>\n",
       "      <th>88761</th>\n",
       "      <td>Non-Fatal</td>\n",
       "      <td>0.0</td>\n",
       "    </tr>\n",
       "    <tr>\n",
       "      <th>88764</th>\n",
       "      <td>Non-Fatal</td>\n",
       "      <td>0.0</td>\n",
       "    </tr>\n",
       "    <tr>\n",
       "      <th>88765</th>\n",
       "      <td>Minor</td>\n",
       "      <td>0.0</td>\n",
       "    </tr>\n",
       "    <tr>\n",
       "      <th>88774</th>\n",
       "      <td>Non-Fatal</td>\n",
       "      <td>0.0</td>\n",
       "    </tr>\n",
       "  </tbody>\n",
       "</table>\n",
       "<p>27580 rows × 2 columns</p>\n",
       "</div>"
      ],
      "text/plain": [
       "      Injury.Severity  Total.Fatal.Injuries\n",
       "5           Non-Fatal                   0.0\n",
       "7           Non-Fatal                   0.0\n",
       "8           Non-Fatal                   0.0\n",
       "12          Non-Fatal                   0.0\n",
       "13           Fatal(1)                   1.0\n",
       "...               ...                   ...\n",
       "88757       Non-Fatal                   0.0\n",
       "88761       Non-Fatal                   0.0\n",
       "88764       Non-Fatal                   0.0\n",
       "88765           Minor                   0.0\n",
       "88774       Non-Fatal                   0.0\n",
       "\n",
       "[27580 rows x 2 columns]"
      ]
     },
     "execution_count": 56,
     "metadata": {},
     "output_type": "execute_result"
    }
   ],
   "source": [
    "# inspect the severity column\n",
    "df[['Injury.Severity', 'Total.Fatal.Injuries']] "
   ]
  },
  {
   "cell_type": "markdown",
   "metadata": {},
   "source": [
    "#### Cleaning the Aircraft.Categories columns\n",
    "In the injury severity column, The fatal category includes the fatal injuries in parenthesis. We can filter this since we have a column for that"
   ]
  },
  {
   "cell_type": "code",
   "execution_count": 57,
   "metadata": {},
   "outputs": [],
   "source": [
    "# More cleaning in injury severity column - dont include no of fatal injuries\n",
    "df.loc[:, 'Injury.Severity'] = df['Injury.Severity'].map(\n",
    "    lambda x: 'Fatal' if 'Fatal(' in x else x\n",
    ")"
   ]
  },
  {
   "cell_type": "code",
   "execution_count": 58,
   "metadata": {},
   "outputs": [
    {
     "data": {
      "text/plain": [
       "Non-Fatal      21041\n",
       "Fatal           5171\n",
       "missing          812\n",
       "Incident         244\n",
       "Minor            165\n",
       "Serious          127\n",
       "Unavailable       20\n",
       "Name: Injury.Severity, dtype: int64"
      ]
     },
     "execution_count": 58,
     "metadata": {},
     "output_type": "execute_result"
    }
   ],
   "source": [
    "# Check available categories\n",
    "df['Injury.Severity'].value_counts()"
   ]
  },
  {
   "cell_type": "markdown",
   "metadata": {},
   "source": [
    "#### Creating one name as a combination of make and model\n",
    "this to help in investigating on a prticular aircraft"
   ]
  },
  {
   "cell_type": "code",
   "execution_count": 59,
   "metadata": {},
   "outputs": [],
   "source": [
    "# Create Unique name field\n",
    "df.loc[:, 'Unique_name'] = df['Make'] + '_' + df['Model']"
   ]
  },
  {
   "cell_type": "markdown",
   "metadata": {},
   "source": [
    "Changing the Event.Date to datetime object to ease working with the dates"
   ]
  },
  {
   "cell_type": "code",
   "execution_count": 60,
   "metadata": {},
   "outputs": [],
   "source": [
    "# Change to datetime dtype\n",
    "df.loc[:, 'Event.Date'] = pd.to_datetime(df['Event.Date'])"
   ]
  },
  {
   "cell_type": "markdown",
   "metadata": {},
   "source": [
    "Creating a new column 'year' that contains the year"
   ]
  },
  {
   "cell_type": "code",
   "execution_count": 61,
   "metadata": {},
   "outputs": [
    {
     "data": {
      "text/plain": [
       "Index(['Event.Id', 'Investigation.Type', 'Accident.Number', 'Event.Date',\n",
       "       'Location', 'Country', 'Airport.Code', 'Airport.Name',\n",
       "       'Injury.Severity', 'Aircraft.damage', 'Aircraft.Category',\n",
       "       'Registration.Number', 'Make', 'Model', 'Amateur.Built',\n",
       "       'Number.of.Engines', 'Engine.Type', 'Purpose.of.flight',\n",
       "       'Total.Fatal.Injuries', 'Total.Serious.Injuries',\n",
       "       'Total.Minor.Injuries', 'Total.Uninjured', 'Weather.Condition',\n",
       "       'Broad.phase.of.flight', 'Report.Status', 'Publication.Date',\n",
       "       'Unique_name', 'year'],\n",
       "      dtype='object')"
      ]
     },
     "execution_count": 61,
     "metadata": {},
     "output_type": "execute_result"
    }
   ],
   "source": [
    "# create new column for year\n",
    "df['year'] = df['Event.Date'].map(lambda x: x.year)\n",
    "df.columns"
   ]
  },
  {
   "cell_type": "markdown",
   "metadata": {},
   "source": [
    "### Plotting  the trend of accidents and incidents over the years"
   ]
  },
  {
   "cell_type": "code",
   "execution_count": 69,
   "metadata": {},
   "outputs": [
    {
     "data": {
      "text/plain": [
       "<matplotlib.legend.Legend at 0x16634de7b50>"
      ]
     },
     "execution_count": 69,
     "metadata": {},
     "output_type": "execute_result"
    },
    {
     "data": {
      "image/png": "[encoded data removed]",
      "text/plain": [
       "<Figure size 864x576 with 1 Axes>"
      ]
     },
     "metadata": {
      "needs_background": "light"
     },
     "output_type": "display_data"
    }
   ],
   "source": [
    "accident_incident_year_df = (\n",
    "    df.groupby('year')['Investigation.Type'].value_counts().unstack(fill_value=0)\n",
    ")\n",
    "\n",
    "year_fig, ax = plt.subplots(figsize=(12,8))\n",
    "\n",
    "sns.lineplot(\n",
    "    data=accident_incident_year_df,\n",
    "    x=accident_incident_year_df.index,\n",
    "    y='Accident',\n",
    "    ax=ax,\n",
    "    label='Accidents'\n",
    ")\n",
    "sns.lineplot(\n",
    "    data=accident_incident_year_df,\n",
    "    x=accident_incident_year_df.index,\n",
    "    y='Incident',\n",
    "    ax=ax,\n",
    "    label='Incidents'\n",
    ")\n",
    "ax.set_title('Distribution of Accidents and Incidents over the years')\n",
    "ax.set_xlabel('Years')\n",
    "ax.set_ylabel('Accidents/Incident count')\n",
    "plt.legend()"
   ]
  },
  {
   "cell_type": "markdown",
   "metadata": {},
   "source": [
    "## Few Accidents = low Risk\n",
    "\n",
    "We now filter to obtain the aircrafts with the lowest number of accidents \n",
    "\n",
    "Few accidents indicate that the aircraft has a low risk of getting an accident"
   ]
  },
  {
   "cell_type": "markdown",
   "metadata": {},
   "source": [
    "We group the df  to obtain records of accidents and count accident and incidents cases for each aircraft"
   ]
  },
  {
   "cell_type": "code",
   "execution_count": 114,
   "metadata": {},
   "outputs": [
    {
     "data": {
      "text/html": [
       "<div>\n",
       "<style scoped>\n",
       "    .dataframe tbody tr th:only-of-type {\n",
       "        vertical-align: middle;\n",
       "    }\n",
       "\n",
       "    .dataframe tbody tr th {\n",
       "        vertical-align: top;\n",
       "    }\n",
       "\n",
       "    .dataframe thead th {\n",
       "        text-align: right;\n",
       "    }\n",
       "</style>\n",
       "<table border=\"1\" class=\"dataframe\">\n",
       "  <thead>\n",
       "    <tr style=\"text-align: right;\">\n",
       "      <th></th>\n",
       "      <th>Unique_name</th>\n",
       "      <th>accident_count</th>\n",
       "      <th>incident_count</th>\n",
       "    </tr>\n",
       "  </thead>\n",
       "  <tbody>\n",
       "    <tr>\n",
       "      <th>0</th>\n",
       "      <td>177MF LLC_PITTS MODEL 12</td>\n",
       "      <td>1</td>\n",
       "      <td>0</td>\n",
       "    </tr>\n",
       "    <tr>\n",
       "      <th>1</th>\n",
       "      <td>2007 Savage Air LLC_EPIC LT</td>\n",
       "      <td>0</td>\n",
       "      <td>1</td>\n",
       "    </tr>\n",
       "    <tr>\n",
       "      <th>2</th>\n",
       "      <td>2021FX3 LLC_CCX-2000</td>\n",
       "      <td>2</td>\n",
       "      <td>0</td>\n",
       "    </tr>\n",
       "    <tr>\n",
       "      <th>3</th>\n",
       "      <td>3XTRIM_450 ULTRA</td>\n",
       "      <td>1</td>\n",
       "      <td>0</td>\n",
       "    </tr>\n",
       "    <tr>\n",
       "      <th>4</th>\n",
       "      <td>5 RIVERS LLC_SQ-2</td>\n",
       "      <td>1</td>\n",
       "      <td>0</td>\n",
       "    </tr>\n",
       "    <tr>\n",
       "      <th>...</th>\n",
       "      <td>...</td>\n",
       "      <td>...</td>\n",
       "      <td>...</td>\n",
       "    </tr>\n",
       "    <tr>\n",
       "      <th>8515</th>\n",
       "      <td>de Havilland_DHC-2 MK I</td>\n",
       "      <td>1</td>\n",
       "      <td>0</td>\n",
       "    </tr>\n",
       "    <tr>\n",
       "      <th>8516</th>\n",
       "      <td>de Havilland_DHC-3</td>\n",
       "      <td>1</td>\n",
       "      <td>0</td>\n",
       "    </tr>\n",
       "    <tr>\n",
       "      <th>8517</th>\n",
       "      <td>de Havilland_DHC-6-200</td>\n",
       "      <td>1</td>\n",
       "      <td>0</td>\n",
       "    </tr>\n",
       "    <tr>\n",
       "      <th>8518</th>\n",
       "      <td>de Havilland_DHC-8-202</td>\n",
       "      <td>1</td>\n",
       "      <td>0</td>\n",
       "    </tr>\n",
       "    <tr>\n",
       "      <th>8519</th>\n",
       "      <td>unknown_kit</td>\n",
       "      <td>1</td>\n",
       "      <td>0</td>\n",
       "    </tr>\n",
       "  </tbody>\n",
       "</table>\n",
       "<p>8520 rows × 3 columns</p>\n",
       "</div>"
      ],
      "text/plain": [
       "                      Unique_name  accident_count  incident_count\n",
       "0        177MF LLC_PITTS MODEL 12               1               0\n",
       "1     2007 Savage Air LLC_EPIC LT               0               1\n",
       "2            2021FX3 LLC_CCX-2000               2               0\n",
       "3                3XTRIM_450 ULTRA               1               0\n",
       "4               5 RIVERS LLC_SQ-2               1               0\n",
       "...                           ...             ...             ...\n",
       "8515      de Havilland_DHC-2 MK I               1               0\n",
       "8516           de Havilland_DHC-3               1               0\n",
       "8517       de Havilland_DHC-6-200               1               0\n",
       "8518       de Havilland_DHC-8-202               1               0\n",
       "8519                  unknown_kit               1               0\n",
       "\n",
       "[8520 rows x 3 columns]"
      ]
     },
     "execution_count": 114,
     "metadata": {},
     "output_type": "execute_result"
    }
   ],
   "source": [
    "# Group by investigation type to get count of accidents for each model\n",
    "accidents_series = df[df['Investigation.Type'] == 'Accident'].groupby(\n",
    "    ['Unique_name']\n",
    ")['Investigation.Type'].count()\n",
    "\n",
    "# create df for incident and accident count\n",
    "\n",
    "accident_incident_df = (\n",
    "    df.groupby('Unique_name')['Investigation.Type'].value_counts().unstack(fill_value=0)\n",
    ")\n",
    "accident_incident_df.columns = ['accident_count', 'incident_count']\n",
    "\n",
    "# Reset index and drop duplicates\n",
    "accident_incident_df.reset_index(inplace=True)\n",
    "accident_incident_df.drop_duplicates(inplace=True)\n",
    "accident_incident_df"
   ]
  },
  {
   "cell_type": "markdown",
   "metadata": {},
   "source": [
    "Creating a new columns for total count of both accidents and incidents\n",
    "\n",
    "Highest count means highest risk"
   ]
  },
  {
   "cell_type": "code",
   "execution_count": 115,
   "metadata": {},
   "outputs": [
    {
     "data": {
      "text/html": [
       "<div>\n",
       "<style scoped>\n",
       "    .dataframe tbody tr th:only-of-type {\n",
       "        vertical-align: middle;\n",
       "    }\n",
       "\n",
       "    .dataframe tbody tr th {\n",
       "        vertical-align: top;\n",
       "    }\n",
       "\n",
       "    .dataframe thead th {\n",
       "        text-align: right;\n",
       "    }\n",
       "</style>\n",
       "<table border=\"1\" class=\"dataframe\">\n",
       "  <thead>\n",
       "    <tr style=\"text-align: right;\">\n",
       "      <th></th>\n",
       "      <th>Unique_name</th>\n",
       "      <th>accident_count</th>\n",
       "      <th>incident_count</th>\n",
       "      <th>total_accidents_incidents</th>\n",
       "    </tr>\n",
       "  </thead>\n",
       "  <tbody>\n",
       "    <tr>\n",
       "      <th>2012</th>\n",
       "      <td>CESSNA_172</td>\n",
       "      <td>488</td>\n",
       "      <td>5</td>\n",
       "      <td>493</td>\n",
       "    </tr>\n",
       "    <tr>\n",
       "      <th>2607</th>\n",
       "      <td>Cessna_172</td>\n",
       "      <td>373</td>\n",
       "      <td>1</td>\n",
       "      <td>374</td>\n",
       "    </tr>\n",
       "    <tr>\n",
       "      <th>1084</th>\n",
       "      <td>BOEING_737</td>\n",
       "      <td>100</td>\n",
       "      <td>268</td>\n",
       "      <td>368</td>\n",
       "    </tr>\n",
       "    <tr>\n",
       "      <th>2596</th>\n",
       "      <td>Cessna_152</td>\n",
       "      <td>253</td>\n",
       "      <td>4</td>\n",
       "      <td>257</td>\n",
       "    </tr>\n",
       "    <tr>\n",
       "      <th>2062</th>\n",
       "      <td>CESSNA_182</td>\n",
       "      <td>189</td>\n",
       "      <td>4</td>\n",
       "      <td>193</td>\n",
       "    </tr>\n",
       "  </tbody>\n",
       "</table>\n",
       "</div>"
      ],
      "text/plain": [
       "     Unique_name  accident_count  incident_count  total_accidents_incidents\n",
       "2012  CESSNA_172             488               5                        493\n",
       "2607  Cessna_172             373               1                        374\n",
       "1084  BOEING_737             100             268                        368\n",
       "2596  Cessna_152             253               4                        257\n",
       "2062  CESSNA_182             189               4                        193"
      ]
     },
     "execution_count": 115,
     "metadata": {},
     "output_type": "execute_result"
    }
   ],
   "source": [
    "# Create new column for total accidents and incidents\n",
    "accident_incident_df['total_accidents_incidents'] = (\n",
    "    accident_incident_df['accident_count'] + accident_incident_df['incident_count']\n",
    ")\n",
    "accident_incident_df.sort_values('total_accidents_incidents', ascending=False, inplace=True)\n",
    "accident_incident_df.head()"
   ]
  },
  {
   "cell_type": "markdown",
   "metadata": {},
   "source": [
    "### Plotting to See the Top 50 Riskiest aircrafts"
   ]
  },
  {
   "cell_type": "code",
   "execution_count": 116,
   "metadata": {},
   "outputs": [
    {
     "data": {
      "text/plain": [
       "Text(0.5, 1.0, 'Top 5o Riskiest Aircrafts')"
      ]
     },
     "execution_count": 116,
     "metadata": {},
     "output_type": "execute_result"
    },
    {
     "data": {
      "image/png": "[encoded data removed]",
      "text/plain": [
       "<Figure size 864x720 with 1 Axes>"
      ]
     },
     "metadata": {
      "needs_background": "light"
     },
     "output_type": "display_data"
    }
   ],
   "source": [
    "# plot top riskiest aircrafts\n",
    "fig, ax = plt.subplots(figsize=(12, 10))\n",
    "sns.barplot(data=accident_incident_df.head(50),\n",
    "            y='Unique_name',\n",
    "            x='total_accidents_incidents',\n",
    "            orient='h',\n",
    "            ax=ax)\n",
    "plt.title('Top 5o Riskiest Aircrafts')\n"
   ]
  },
  {
   "cell_type": "markdown",
   "metadata": {},
   "source": [
    "### Get a df of the Aircrafts with the lowest count of Both incident and Accidents\n",
    "This will give us the lowest risk aircrafts in terms of occurence of accidents or incidents\n",
    "\n",
    "The lowest risk could be the one with no incidents and no accidents but none meets this criteria"
   ]
  },
  {
   "cell_type": "markdown",
   "metadata": {},
   "source": [
    "We can filter to get the Aircrafts with no accidents : They have lower risk \n",
    "\n",
    "Also we get the ones with the fewest number of Incidents"
   ]
  },
  {
   "cell_type": "code",
   "execution_count": 117,
   "metadata": {},
   "outputs": [
    {
     "data": {
      "text/html": [
       "<div>\n",
       "<style scoped>\n",
       "    .dataframe tbody tr th:only-of-type {\n",
       "        vertical-align: middle;\n",
       "    }\n",
       "\n",
       "    .dataframe tbody tr th {\n",
       "        vertical-align: top;\n",
       "    }\n",
       "\n",
       "    .dataframe thead th {\n",
       "        text-align: right;\n",
       "    }\n",
       "</style>\n",
       "<table border=\"1\" class=\"dataframe\">\n",
       "  <thead>\n",
       "    <tr style=\"text-align: right;\">\n",
       "      <th></th>\n",
       "      <th>accident_count</th>\n",
       "      <th>incident_count</th>\n",
       "      <th>total_accidents_incidents</th>\n",
       "    </tr>\n",
       "    <tr>\n",
       "      <th>Unique_name</th>\n",
       "      <th></th>\n",
       "      <th></th>\n",
       "      <th></th>\n",
       "    </tr>\n",
       "  </thead>\n",
       "  <tbody>\n",
       "    <tr>\n",
       "      <th>PIPER_PA-46-600TP</th>\n",
       "      <td>0</td>\n",
       "      <td>1</td>\n",
       "      <td>1</td>\n",
       "    </tr>\n",
       "    <tr>\n",
       "      <th>PIPER_PA32R - 301T</th>\n",
       "      <td>0</td>\n",
       "      <td>1</td>\n",
       "      <td>1</td>\n",
       "    </tr>\n",
       "    <tr>\n",
       "      <th>PIPER_PA19</th>\n",
       "      <td>0</td>\n",
       "      <td>1</td>\n",
       "      <td>1</td>\n",
       "    </tr>\n",
       "    <tr>\n",
       "      <th>MCDONNELL-DOUGLAS_DC-10-30</th>\n",
       "      <td>0</td>\n",
       "      <td>1</td>\n",
       "      <td>1</td>\n",
       "    </tr>\n",
       "    <tr>\n",
       "      <th>MCDONNELL DOUGLAS_MD82</th>\n",
       "      <td>0</td>\n",
       "      <td>1</td>\n",
       "      <td>1</td>\n",
       "    </tr>\n",
       "    <tr>\n",
       "      <th>...</th>\n",
       "      <td>...</td>\n",
       "      <td>...</td>\n",
       "      <td>...</td>\n",
       "    </tr>\n",
       "    <tr>\n",
       "      <th>Embraer_EMB-120ER</th>\n",
       "      <td>0</td>\n",
       "      <td>1</td>\n",
       "      <td>1</td>\n",
       "    </tr>\n",
       "    <tr>\n",
       "      <th>Embraer_EMB-110P1</th>\n",
       "      <td>0</td>\n",
       "      <td>1</td>\n",
       "      <td>1</td>\n",
       "    </tr>\n",
       "    <tr>\n",
       "      <th>Embraer_145</th>\n",
       "      <td>0</td>\n",
       "      <td>1</td>\n",
       "      <td>1</td>\n",
       "    </tr>\n",
       "    <tr>\n",
       "      <th>EVO13 LLC_LANCAIR EVOLUTION</th>\n",
       "      <td>0</td>\n",
       "      <td>1</td>\n",
       "      <td>1</td>\n",
       "    </tr>\n",
       "    <tr>\n",
       "      <th>Eclipse Aviation_EA500</th>\n",
       "      <td>0</td>\n",
       "      <td>1</td>\n",
       "      <td>1</td>\n",
       "    </tr>\n",
       "  </tbody>\n",
       "</table>\n",
       "<p>356 rows × 3 columns</p>\n",
       "</div>"
      ],
      "text/plain": [
       "                             accident_count  incident_count  \\\n",
       "Unique_name                                                   \n",
       "PIPER_PA-46-600TP                         0               1   \n",
       "PIPER_PA32R - 301T                        0               1   \n",
       "PIPER_PA19                                0               1   \n",
       "MCDONNELL-DOUGLAS_DC-10-30                0               1   \n",
       "MCDONNELL DOUGLAS_MD82                    0               1   \n",
       "...                                     ...             ...   \n",
       "Embraer_EMB-120ER                         0               1   \n",
       "Embraer_EMB-110P1                         0               1   \n",
       "Embraer_145                               0               1   \n",
       "EVO13 LLC_LANCAIR EVOLUTION               0               1   \n",
       "Eclipse Aviation_EA500                    0               1   \n",
       "\n",
       "                             total_accidents_incidents  \n",
       "Unique_name                                             \n",
       "PIPER_PA-46-600TP                                    1  \n",
       "PIPER_PA32R - 301T                                   1  \n",
       "PIPER_PA19                                           1  \n",
       "MCDONNELL-DOUGLAS_DC-10-30                           1  \n",
       "MCDONNELL DOUGLAS_MD82                               1  \n",
       "...                                                ...  \n",
       "Embraer_EMB-120ER                                    1  \n",
       "Embraer_EMB-110P1                                    1  \n",
       "Embraer_145                                          1  \n",
       "EVO13 LLC_LANCAIR EVOLUTION                          1  \n",
       "Eclipse Aviation_EA500                               1  \n",
       "\n",
       "[356 rows x 3 columns]"
      ]
     },
     "execution_count": 117,
     "metadata": {},
     "output_type": "execute_result"
    }
   ],
   "source": [
    "# Get aircrafts with lowest incidents and no accidents\n",
    "lowest_accidents_incidents = accident_incident_df[\n",
    "    (accident_incident_df['accident_count'] == 0) &\n",
    "    (\n",
    "        accident_incident_df['total_accidents_incidents'] ==\n",
    "        accident_incident_df['total_accidents_incidents'].min()\n",
    "    )\n",
    "]\n",
    "\n",
    "lowest_accidents_incidents.set_index('Unique_name', inplace=True)\n",
    "lowest_accidents_incidents"
   ]
  },
  {
   "cell_type": "markdown",
   "metadata": {},
   "source": [
    "Number of accidents or incidents criteria helps us to get down to 356 Aircrafts"
   ]
  },
  {
   "cell_type": "markdown",
   "metadata": {},
   "source": [
    "## Filtering in Terms of Injury Severity"
   ]
  },
  {
   "cell_type": "markdown",
   "metadata": {},
   "source": [
    "Create new columns for total number of injuries"
   ]
  },
  {
   "cell_type": "code",
   "execution_count": 165,
   "metadata": {},
   "outputs": [],
   "source": [
    "df['total_injuries'] = (\n",
    "    df['Total.Fatal.Injuries'] +\n",
    "    df['Total.Minor.Injuries'] +\n",
    "    df['Total.Serious.Injuries']\n",
    ")"
   ]
  },
  {
   "cell_type": "code",
   "execution_count": 156,
   "metadata": {},
   "outputs": [
    {
     "data": {
      "text/plain": [
       "Non-Fatal      21041\n",
       "Fatal           5171\n",
       "missing          812\n",
       "Incident         244\n",
       "Minor            165\n",
       "Serious          127\n",
       "Unavailable       20\n",
       "Name: Injury.Severity, dtype: int64"
      ]
     },
     "execution_count": 156,
     "metadata": {},
     "output_type": "execute_result"
    }
   ],
   "source": [
    "# Check the categories\n",
    "df['Injury.Severity'].value_counts()"
   ]
  },
  {
   "cell_type": "markdown",
   "metadata": {},
   "source": [
    "### What does Unavailable category Mean?"
   ]
  },
  {
   "cell_type": "code",
   "execution_count": 155,
   "metadata": {},
   "outputs": [
    {
     "data": {
      "text/html": [
       "<div>\n",
       "<style scoped>\n",
       "    .dataframe tbody tr th:only-of-type {\n",
       "        vertical-align: middle;\n",
       "    }\n",
       "\n",
       "    .dataframe tbody tr th {\n",
       "        vertical-align: top;\n",
       "    }\n",
       "\n",
       "    .dataframe thead th {\n",
       "        text-align: right;\n",
       "    }\n",
       "</style>\n",
       "<table border=\"1\" class=\"dataframe\">\n",
       "  <thead>\n",
       "    <tr style=\"text-align: right;\">\n",
       "      <th></th>\n",
       "      <th>Event.Id</th>\n",
       "      <th>Investigation.Type</th>\n",
       "      <th>Accident.Number</th>\n",
       "      <th>Event.Date</th>\n",
       "      <th>Location</th>\n",
       "      <th>Country</th>\n",
       "      <th>Airport.Code</th>\n",
       "      <th>Airport.Name</th>\n",
       "      <th>Injury.Severity</th>\n",
       "      <th>Aircraft.damage</th>\n",
       "      <th>...</th>\n",
       "      <th>Total.Fatal.Injuries</th>\n",
       "      <th>Total.Serious.Injuries</th>\n",
       "      <th>Total.Minor.Injuries</th>\n",
       "      <th>Total.Uninjured</th>\n",
       "      <th>Weather.Condition</th>\n",
       "      <th>Broad.phase.of.flight</th>\n",
       "      <th>Report.Status</th>\n",
       "      <th>Publication.Date</th>\n",
       "      <th>Unique_name</th>\n",
       "      <th>year</th>\n",
       "    </tr>\n",
       "  </thead>\n",
       "  <tbody>\n",
       "    <tr>\n",
       "      <th>41627</th>\n",
       "      <td>20001208X07697</td>\n",
       "      <td>Accident</td>\n",
       "      <td>DCA97WA043</td>\n",
       "      <td>1997-04-27</td>\n",
       "      <td>JINAN, CHINA</td>\n",
       "      <td>China</td>\n",
       "      <td>missing</td>\n",
       "      <td>missing</td>\n",
       "      <td>Unavailable</td>\n",
       "      <td>Substantial</td>\n",
       "      <td>...</td>\n",
       "      <td>0.0</td>\n",
       "      <td>0.0</td>\n",
       "      <td>0.0</td>\n",
       "      <td>5.0</td>\n",
       "      <td>UNK</td>\n",
       "      <td>missing</td>\n",
       "      <td>Foreign</td>\n",
       "      <td>missing</td>\n",
       "      <td>Mcdonnell Douglas_MD-82</td>\n",
       "      <td>1997</td>\n",
       "    </tr>\n",
       "    <tr>\n",
       "      <th>42258</th>\n",
       "      <td>20001208X08352</td>\n",
       "      <td>Accident</td>\n",
       "      <td>DCA97WA054</td>\n",
       "      <td>1997-07-21</td>\n",
       "      <td>SOUTHERN THAILA, Thailand</td>\n",
       "      <td>Thailand</td>\n",
       "      <td>missing</td>\n",
       "      <td>missing</td>\n",
       "      <td>Unavailable</td>\n",
       "      <td>Destroyed</td>\n",
       "      <td>...</td>\n",
       "      <td>0.0</td>\n",
       "      <td>0.0</td>\n",
       "      <td>0.0</td>\n",
       "      <td>5.0</td>\n",
       "      <td>UNK</td>\n",
       "      <td>missing</td>\n",
       "      <td>Foreign</td>\n",
       "      <td>missing</td>\n",
       "      <td>Learjet_LR-31</td>\n",
       "      <td>1997</td>\n",
       "    </tr>\n",
       "    <tr>\n",
       "      <th>42818</th>\n",
       "      <td>20001208X08992</td>\n",
       "      <td>Accident</td>\n",
       "      <td>DCA98WA082</td>\n",
       "      <td>1997-10-09</td>\n",
       "      <td>HARBIN, CHINA</td>\n",
       "      <td>China</td>\n",
       "      <td>missing</td>\n",
       "      <td>missing</td>\n",
       "      <td>Unavailable</td>\n",
       "      <td>Substantial</td>\n",
       "      <td>...</td>\n",
       "      <td>0.0</td>\n",
       "      <td>0.0</td>\n",
       "      <td>0.0</td>\n",
       "      <td>5.0</td>\n",
       "      <td>UNK</td>\n",
       "      <td>missing</td>\n",
       "      <td>Foreign</td>\n",
       "      <td>missing</td>\n",
       "      <td>Cessna_650-0220</td>\n",
       "      <td>1997</td>\n",
       "    </tr>\n",
       "    <tr>\n",
       "      <th>42906</th>\n",
       "      <td>20001208X08991</td>\n",
       "      <td>Accident</td>\n",
       "      <td>DCA98WA005</td>\n",
       "      <td>1997-10-24</td>\n",
       "      <td>MONTEVIDEO, URUGUAY</td>\n",
       "      <td>Uruguay</td>\n",
       "      <td>missing</td>\n",
       "      <td>missing</td>\n",
       "      <td>Unavailable</td>\n",
       "      <td>Substantial</td>\n",
       "      <td>...</td>\n",
       "      <td>0.0</td>\n",
       "      <td>0.0</td>\n",
       "      <td>0.0</td>\n",
       "      <td>5.0</td>\n",
       "      <td>UNK</td>\n",
       "      <td>missing</td>\n",
       "      <td>Foreign</td>\n",
       "      <td>missing</td>\n",
       "      <td>Mcdonnell Douglas_MD-11</td>\n",
       "      <td>1997</td>\n",
       "    </tr>\n",
       "    <tr>\n",
       "      <th>43664</th>\n",
       "      <td>20001211X09838</td>\n",
       "      <td>Accident</td>\n",
       "      <td>DCA98WA050</td>\n",
       "      <td>1998-04-12</td>\n",
       "      <td>ALMA-ATA, KAZAKHSTAN</td>\n",
       "      <td>Kazakhstan</td>\n",
       "      <td>missing</td>\n",
       "      <td>missing</td>\n",
       "      <td>Unavailable</td>\n",
       "      <td>Substantial</td>\n",
       "      <td>...</td>\n",
       "      <td>0.0</td>\n",
       "      <td>0.0</td>\n",
       "      <td>0.0</td>\n",
       "      <td>5.0</td>\n",
       "      <td>UNK</td>\n",
       "      <td>missing</td>\n",
       "      <td>Foreign</td>\n",
       "      <td>missing</td>\n",
       "      <td>Boeing_737-200</td>\n",
       "      <td>1998</td>\n",
       "    </tr>\n",
       "  </tbody>\n",
       "</table>\n",
       "<p>5 rows × 28 columns</p>\n",
       "</div>"
      ],
      "text/plain": [
       "             Event.Id Investigation.Type Accident.Number Event.Date  \\\n",
       "41627  20001208X07697           Accident      DCA97WA043 1997-04-27   \n",
       "42258  20001208X08352           Accident      DCA97WA054 1997-07-21   \n",
       "42818  20001208X08992           Accident      DCA98WA082 1997-10-09   \n",
       "42906  20001208X08991           Accident      DCA98WA005 1997-10-24   \n",
       "43664  20001211X09838           Accident      DCA98WA050 1998-04-12   \n",
       "\n",
       "                        Location     Country Airport.Code Airport.Name  \\\n",
       "41627               JINAN, CHINA       China      missing      missing   \n",
       "42258  SOUTHERN THAILA, Thailand    Thailand      missing      missing   \n",
       "42818              HARBIN, CHINA       China      missing      missing   \n",
       "42906        MONTEVIDEO, URUGUAY     Uruguay      missing      missing   \n",
       "43664       ALMA-ATA, KAZAKHSTAN  Kazakhstan      missing      missing   \n",
       "\n",
       "      Injury.Severity Aircraft.damage  ... Total.Fatal.Injuries  \\\n",
       "41627     Unavailable     Substantial  ...                  0.0   \n",
       "42258     Unavailable       Destroyed  ...                  0.0   \n",
       "42818     Unavailable     Substantial  ...                  0.0   \n",
       "42906     Unavailable     Substantial  ...                  0.0   \n",
       "43664     Unavailable     Substantial  ...                  0.0   \n",
       "\n",
       "      Total.Serious.Injuries Total.Minor.Injuries Total.Uninjured  \\\n",
       "41627                    0.0                  0.0             5.0   \n",
       "42258                    0.0                  0.0             5.0   \n",
       "42818                    0.0                  0.0             5.0   \n",
       "42906                    0.0                  0.0             5.0   \n",
       "43664                    0.0                  0.0             5.0   \n",
       "\n",
       "      Weather.Condition  Broad.phase.of.flight Report.Status Publication.Date  \\\n",
       "41627               UNK                missing       Foreign          missing   \n",
       "42258               UNK                missing       Foreign          missing   \n",
       "42818               UNK                missing       Foreign          missing   \n",
       "42906               UNK                missing       Foreign          missing   \n",
       "43664               UNK                missing       Foreign          missing   \n",
       "\n",
       "                   Unique_name  year  \n",
       "41627  Mcdonnell Douglas_MD-82  1997  \n",
       "42258            Learjet_LR-31  1997  \n",
       "42818          Cessna_650-0220  1997  \n",
       "42906  Mcdonnell Douglas_MD-11  1997  \n",
       "43664           Boeing_737-200  1998  \n",
       "\n",
       "[5 rows x 28 columns]"
      ]
     },
     "execution_count": 155,
     "metadata": {},
     "output_type": "execute_result"
    }
   ],
   "source": [
    "# What does unavailable mean\n",
    "df[df['Injury.Severity'] == 'Unavailable'].head()"
   ]
  },
  {
   "cell_type": "code",
   "execution_count": 166,
   "metadata": {},
   "outputs": [
    {
     "data": {
      "text/plain": [
       "0.0"
      ]
     },
     "execution_count": 166,
     "metadata": {},
     "output_type": "execute_result"
    }
   ],
   "source": [
    "df[df['Injury.Severity'] == 'Unavailable']['total_injuries'].sum()"
   ]
  },
  {
   "cell_type": "markdown",
   "metadata": {},
   "source": [
    "We find out that those with the category 'Unavailable' have no injuries recorded\n",
    "\n",
    "- There are no type of accidents present"
   ]
  },
  {
   "cell_type": "code",
   "execution_count": 160,
   "metadata": {},
   "outputs": [
    {
     "data": {
      "text/plain": [
       "Accident    20\n",
       "Name: Investigation.Type, dtype: int64"
      ]
     },
     "execution_count": 160,
     "metadata": {},
     "output_type": "execute_result"
    }
   ],
   "source": [
    "df.loc[df['Injury.Severity'] == 'Unavailable']['Investigation.Type'].value_counts()"
   ]
  },
  {
   "cell_type": "markdown",
   "metadata": {},
   "source": [
    "We see that the Unavailable are the cases of accidents with no injuries "
   ]
  },
  {
   "cell_type": "markdown",
   "metadata": {},
   "source": [
    "### Counting the different types of injury severity for each aircraft"
   ]
  },
  {
   "cell_type": "code",
   "execution_count": 173,
   "metadata": {},
   "outputs": [
    {
     "data": {
      "text/html": [
       "<div>\n",
       "<style scoped>\n",
       "    .dataframe tbody tr th:only-of-type {\n",
       "        vertical-align: middle;\n",
       "    }\n",
       "\n",
       "    .dataframe tbody tr th {\n",
       "        vertical-align: top;\n",
       "    }\n",
       "\n",
       "    .dataframe thead th {\n",
       "        text-align: right;\n",
       "    }\n",
       "</style>\n",
       "<table border=\"1\" class=\"dataframe\">\n",
       "  <thead>\n",
       "    <tr style=\"text-align: right;\">\n",
       "      <th></th>\n",
       "      <th>Fatal</th>\n",
       "      <th>Incident</th>\n",
       "      <th>Minor</th>\n",
       "      <th>Non-Fatal</th>\n",
       "      <th>Serious</th>\n",
       "      <th>Unavailable</th>\n",
       "      <th>missing</th>\n",
       "    </tr>\n",
       "    <tr>\n",
       "      <th>Unique_name</th>\n",
       "      <th></th>\n",
       "      <th></th>\n",
       "      <th></th>\n",
       "      <th></th>\n",
       "      <th></th>\n",
       "      <th></th>\n",
       "      <th></th>\n",
       "    </tr>\n",
       "  </thead>\n",
       "  <tbody>\n",
       "    <tr>\n",
       "      <th>177MF LLC_PITTS MODEL 12</th>\n",
       "      <td>0</td>\n",
       "      <td>0</td>\n",
       "      <td>0</td>\n",
       "      <td>1</td>\n",
       "      <td>0</td>\n",
       "      <td>0</td>\n",
       "      <td>0</td>\n",
       "    </tr>\n",
       "    <tr>\n",
       "      <th>2007 Savage Air LLC_EPIC LT</th>\n",
       "      <td>0</td>\n",
       "      <td>0</td>\n",
       "      <td>0</td>\n",
       "      <td>1</td>\n",
       "      <td>0</td>\n",
       "      <td>0</td>\n",
       "      <td>0</td>\n",
       "    </tr>\n",
       "    <tr>\n",
       "      <th>2021FX3 LLC_CCX-2000</th>\n",
       "      <td>0</td>\n",
       "      <td>0</td>\n",
       "      <td>0</td>\n",
       "      <td>2</td>\n",
       "      <td>0</td>\n",
       "      <td>0</td>\n",
       "      <td>0</td>\n",
       "    </tr>\n",
       "    <tr>\n",
       "      <th>3XTRIM_450 ULTRA</th>\n",
       "      <td>1</td>\n",
       "      <td>0</td>\n",
       "      <td>0</td>\n",
       "      <td>0</td>\n",
       "      <td>0</td>\n",
       "      <td>0</td>\n",
       "      <td>0</td>\n",
       "    </tr>\n",
       "    <tr>\n",
       "      <th>5 RIVERS LLC_SQ-2</th>\n",
       "      <td>0</td>\n",
       "      <td>0</td>\n",
       "      <td>0</td>\n",
       "      <td>0</td>\n",
       "      <td>1</td>\n",
       "      <td>0</td>\n",
       "      <td>0</td>\n",
       "    </tr>\n",
       "  </tbody>\n",
       "</table>\n",
       "</div>"
      ],
      "text/plain": [
       "                             Fatal  Incident  Minor  Non-Fatal  Serious  \\\n",
       "Unique_name                                                               \n",
       "177MF LLC_PITTS MODEL 12         0         0      0          1        0   \n",
       "2007 Savage Air LLC_EPIC LT      0         0      0          1        0   \n",
       "2021FX3 LLC_CCX-2000             0         0      0          2        0   \n",
       "3XTRIM_450 ULTRA                 1         0      0          0        0   \n",
       "5 RIVERS LLC_SQ-2                0         0      0          0        1   \n",
       "\n",
       "                             Unavailable  missing  \n",
       "Unique_name                                        \n",
       "177MF LLC_PITTS MODEL 12               0        0  \n",
       "2007 Savage Air LLC_EPIC LT            0        0  \n",
       "2021FX3 LLC_CCX-2000                   0        0  \n",
       "3XTRIM_450 ULTRA                       0        0  \n",
       "5 RIVERS LLC_SQ-2                      0        0  "
      ]
     },
     "execution_count": 173,
     "metadata": {},
     "output_type": "execute_result"
    }
   ],
   "source": [
    "# Group by severity and count\n",
    "# also transpose to make catogories as columns\n",
    "severity_count_df = df.groupby(['Injury.Severity', 'Unique_name']).size().unstack(fill_value=0).T\n",
    "\n",
    "# remove columns name\n",
    "severity_count_df.columns.name = \"\"\n",
    "\n",
    "severity_count_df.head()"
   ]
  },
  {
   "cell_type": "markdown",
   "metadata": {},
   "source": [
    "#### Now we filter to only include indexes of the previously filtered records"
   ]
  },
  {
   "cell_type": "code",
   "execution_count": 174,
   "metadata": {},
   "outputs": [
    {
     "data": {
      "text/html": [
       "<div>\n",
       "<style scoped>\n",
       "    .dataframe tbody tr th:only-of-type {\n",
       "        vertical-align: middle;\n",
       "    }\n",
       "\n",
       "    .dataframe tbody tr th {\n",
       "        vertical-align: top;\n",
       "    }\n",
       "\n",
       "    .dataframe thead th {\n",
       "        text-align: right;\n",
       "    }\n",
       "</style>\n",
       "<table border=\"1\" class=\"dataframe\">\n",
       "  <thead>\n",
       "    <tr style=\"text-align: right;\">\n",
       "      <th></th>\n",
       "      <th>Fatal</th>\n",
       "      <th>Incident</th>\n",
       "      <th>Minor</th>\n",
       "      <th>Non-Fatal</th>\n",
       "      <th>Serious</th>\n",
       "      <th>Unavailable</th>\n",
       "      <th>missing</th>\n",
       "    </tr>\n",
       "    <tr>\n",
       "      <th>Unique_name</th>\n",
       "      <th></th>\n",
       "      <th></th>\n",
       "      <th></th>\n",
       "      <th></th>\n",
       "      <th></th>\n",
       "      <th></th>\n",
       "      <th></th>\n",
       "    </tr>\n",
       "  </thead>\n",
       "  <tbody>\n",
       "    <tr>\n",
       "      <th>PIPER_PA-46-600TP</th>\n",
       "      <td>0</td>\n",
       "      <td>0</td>\n",
       "      <td>0</td>\n",
       "      <td>0</td>\n",
       "      <td>0</td>\n",
       "      <td>0</td>\n",
       "      <td>1</td>\n",
       "    </tr>\n",
       "    <tr>\n",
       "      <th>PIPER_PA32R - 301T</th>\n",
       "      <td>0</td>\n",
       "      <td>0</td>\n",
       "      <td>0</td>\n",
       "      <td>1</td>\n",
       "      <td>0</td>\n",
       "      <td>0</td>\n",
       "      <td>0</td>\n",
       "    </tr>\n",
       "    <tr>\n",
       "      <th>PIPER_PA19</th>\n",
       "      <td>0</td>\n",
       "      <td>0</td>\n",
       "      <td>0</td>\n",
       "      <td>1</td>\n",
       "      <td>0</td>\n",
       "      <td>0</td>\n",
       "      <td>0</td>\n",
       "    </tr>\n",
       "    <tr>\n",
       "      <th>MCDONNELL-DOUGLAS_DC-10-30</th>\n",
       "      <td>0</td>\n",
       "      <td>0</td>\n",
       "      <td>0</td>\n",
       "      <td>1</td>\n",
       "      <td>0</td>\n",
       "      <td>0</td>\n",
       "      <td>0</td>\n",
       "    </tr>\n",
       "    <tr>\n",
       "      <th>MCDONNELL DOUGLAS_MD82</th>\n",
       "      <td>0</td>\n",
       "      <td>0</td>\n",
       "      <td>0</td>\n",
       "      <td>0</td>\n",
       "      <td>0</td>\n",
       "      <td>0</td>\n",
       "      <td>1</td>\n",
       "    </tr>\n",
       "    <tr>\n",
       "      <th>...</th>\n",
       "      <td>...</td>\n",
       "      <td>...</td>\n",
       "      <td>...</td>\n",
       "      <td>...</td>\n",
       "      <td>...</td>\n",
       "      <td>...</td>\n",
       "      <td>...</td>\n",
       "    </tr>\n",
       "    <tr>\n",
       "      <th>Embraer_EMB-120ER</th>\n",
       "      <td>0</td>\n",
       "      <td>0</td>\n",
       "      <td>0</td>\n",
       "      <td>1</td>\n",
       "      <td>0</td>\n",
       "      <td>0</td>\n",
       "      <td>0</td>\n",
       "    </tr>\n",
       "    <tr>\n",
       "      <th>Embraer_EMB-110P1</th>\n",
       "      <td>0</td>\n",
       "      <td>1</td>\n",
       "      <td>0</td>\n",
       "      <td>0</td>\n",
       "      <td>0</td>\n",
       "      <td>0</td>\n",
       "      <td>0</td>\n",
       "    </tr>\n",
       "    <tr>\n",
       "      <th>Embraer_145</th>\n",
       "      <td>0</td>\n",
       "      <td>1</td>\n",
       "      <td>0</td>\n",
       "      <td>0</td>\n",
       "      <td>0</td>\n",
       "      <td>0</td>\n",
       "      <td>0</td>\n",
       "    </tr>\n",
       "    <tr>\n",
       "      <th>EVO13 LLC_LANCAIR EVOLUTION</th>\n",
       "      <td>0</td>\n",
       "      <td>0</td>\n",
       "      <td>0</td>\n",
       "      <td>1</td>\n",
       "      <td>0</td>\n",
       "      <td>0</td>\n",
       "      <td>0</td>\n",
       "    </tr>\n",
       "    <tr>\n",
       "      <th>Eclipse Aviation_EA500</th>\n",
       "      <td>0</td>\n",
       "      <td>0</td>\n",
       "      <td>0</td>\n",
       "      <td>1</td>\n",
       "      <td>0</td>\n",
       "      <td>0</td>\n",
       "      <td>0</td>\n",
       "    </tr>\n",
       "  </tbody>\n",
       "</table>\n",
       "<p>356 rows × 7 columns</p>\n",
       "</div>"
      ],
      "text/plain": [
       "                             Fatal  Incident  Minor  Non-Fatal  Serious  \\\n",
       "Unique_name                                                               \n",
       "PIPER_PA-46-600TP                0         0      0          0        0   \n",
       "PIPER_PA32R - 301T               0         0      0          1        0   \n",
       "PIPER_PA19                       0         0      0          1        0   \n",
       "MCDONNELL-DOUGLAS_DC-10-30       0         0      0          1        0   \n",
       "MCDONNELL DOUGLAS_MD82           0         0      0          0        0   \n",
       "...                            ...       ...    ...        ...      ...   \n",
       "Embraer_EMB-120ER                0         0      0          1        0   \n",
       "Embraer_EMB-110P1                0         1      0          0        0   \n",
       "Embraer_145                      0         1      0          0        0   \n",
       "EVO13 LLC_LANCAIR EVOLUTION      0         0      0          1        0   \n",
       "Eclipse Aviation_EA500           0         0      0          1        0   \n",
       "\n",
       "                             Unavailable  missing  \n",
       "Unique_name                                        \n",
       "PIPER_PA-46-600TP                      0        1  \n",
       "PIPER_PA32R - 301T                     0        0  \n",
       "PIPER_PA19                             0        0  \n",
       "MCDONNELL-DOUGLAS_DC-10-30             0        0  \n",
       "MCDONNELL DOUGLAS_MD82                 0        1  \n",
       "...                                  ...      ...  \n",
       "Embraer_EMB-120ER                      0        0  \n",
       "Embraer_EMB-110P1                      0        0  \n",
       "Embraer_145                            0        0  \n",
       "EVO13 LLC_LANCAIR EVOLUTION            0        0  \n",
       "Eclipse Aviation_EA500                 0        0  \n",
       "\n",
       "[356 rows x 7 columns]"
      ]
     },
     "execution_count": 174,
     "metadata": {},
     "output_type": "execute_result"
    }
   ],
   "source": [
    "# only pick indexes from the previously filtered df with least accidents\n",
    "check_severity_df = severity_count_df.loc[lowest_accidents_incidents.index, :]\n",
    "check_severity_df"
   ]
  },
  {
   "cell_type": "markdown",
   "metadata": {},
   "source": [
    "### Check incidents with no Injuries"
   ]
  },
  {
   "cell_type": "code",
   "execution_count": 175,
   "metadata": {},
   "outputs": [
    {
     "data": {
      "text/html": [
       "<div>\n",
       "<style scoped>\n",
       "    .dataframe tbody tr th:only-of-type {\n",
       "        vertical-align: middle;\n",
       "    }\n",
       "\n",
       "    .dataframe tbody tr th {\n",
       "        vertical-align: top;\n",
       "    }\n",
       "\n",
       "    .dataframe thead th {\n",
       "        text-align: right;\n",
       "    }\n",
       "</style>\n",
       "<table border=\"1\" class=\"dataframe\">\n",
       "  <thead>\n",
       "    <tr style=\"text-align: right;\">\n",
       "      <th></th>\n",
       "      <th>Fatal</th>\n",
       "      <th>Incident</th>\n",
       "      <th>Minor</th>\n",
       "      <th>Non-Fatal</th>\n",
       "      <th>Serious</th>\n",
       "      <th>Unavailable</th>\n",
       "      <th>missing</th>\n",
       "    </tr>\n",
       "    <tr>\n",
       "      <th>Unique_name</th>\n",
       "      <th></th>\n",
       "      <th></th>\n",
       "      <th></th>\n",
       "      <th></th>\n",
       "      <th></th>\n",
       "      <th></th>\n",
       "      <th></th>\n",
       "    </tr>\n",
       "  </thead>\n",
       "  <tbody>\n",
       "    <tr>\n",
       "      <th>Learjet_36</th>\n",
       "      <td>0</td>\n",
       "      <td>1</td>\n",
       "      <td>0</td>\n",
       "      <td>0</td>\n",
       "      <td>0</td>\n",
       "      <td>0</td>\n",
       "      <td>0</td>\n",
       "    </tr>\n",
       "    <tr>\n",
       "      <th>Lockheed_WP-3D</th>\n",
       "      <td>0</td>\n",
       "      <td>1</td>\n",
       "      <td>0</td>\n",
       "      <td>0</td>\n",
       "      <td>0</td>\n",
       "      <td>0</td>\n",
       "      <td>0</td>\n",
       "    </tr>\n",
       "    <tr>\n",
       "      <th>Lockheed_L188C</th>\n",
       "      <td>0</td>\n",
       "      <td>1</td>\n",
       "      <td>0</td>\n",
       "      <td>0</td>\n",
       "      <td>0</td>\n",
       "      <td>0</td>\n",
       "      <td>0</td>\n",
       "    </tr>\n",
       "    <tr>\n",
       "      <th>Lockheed_L1011</th>\n",
       "      <td>0</td>\n",
       "      <td>1</td>\n",
       "      <td>0</td>\n",
       "      <td>0</td>\n",
       "      <td>0</td>\n",
       "      <td>0</td>\n",
       "      <td>0</td>\n",
       "    </tr>\n",
       "    <tr>\n",
       "      <th>Nunn_KR2</th>\n",
       "      <td>0</td>\n",
       "      <td>1</td>\n",
       "      <td>0</td>\n",
       "      <td>0</td>\n",
       "      <td>0</td>\n",
       "      <td>0</td>\n",
       "      <td>0</td>\n",
       "    </tr>\n",
       "    <tr>\n",
       "      <th>...</th>\n",
       "      <td>...</td>\n",
       "      <td>...</td>\n",
       "      <td>...</td>\n",
       "      <td>...</td>\n",
       "      <td>...</td>\n",
       "      <td>...</td>\n",
       "      <td>...</td>\n",
       "    </tr>\n",
       "    <tr>\n",
       "      <th>Douglas_DC9-30</th>\n",
       "      <td>0</td>\n",
       "      <td>1</td>\n",
       "      <td>0</td>\n",
       "      <td>0</td>\n",
       "      <td>0</td>\n",
       "      <td>0</td>\n",
       "      <td>0</td>\n",
       "    </tr>\n",
       "    <tr>\n",
       "      <th>Embraer_EMB-11OP1</th>\n",
       "      <td>0</td>\n",
       "      <td>1</td>\n",
       "      <td>0</td>\n",
       "      <td>0</td>\n",
       "      <td>0</td>\n",
       "      <td>0</td>\n",
       "      <td>0</td>\n",
       "    </tr>\n",
       "    <tr>\n",
       "      <th>Embraer_EMB-145</th>\n",
       "      <td>0</td>\n",
       "      <td>1</td>\n",
       "      <td>0</td>\n",
       "      <td>0</td>\n",
       "      <td>0</td>\n",
       "      <td>0</td>\n",
       "      <td>0</td>\n",
       "    </tr>\n",
       "    <tr>\n",
       "      <th>Embraer_EMB-110P1</th>\n",
       "      <td>0</td>\n",
       "      <td>1</td>\n",
       "      <td>0</td>\n",
       "      <td>0</td>\n",
       "      <td>0</td>\n",
       "      <td>0</td>\n",
       "      <td>0</td>\n",
       "    </tr>\n",
       "    <tr>\n",
       "      <th>Embraer_145</th>\n",
       "      <td>0</td>\n",
       "      <td>1</td>\n",
       "      <td>0</td>\n",
       "      <td>0</td>\n",
       "      <td>0</td>\n",
       "      <td>0</td>\n",
       "      <td>0</td>\n",
       "    </tr>\n",
       "  </tbody>\n",
       "</table>\n",
       "<p>93 rows × 7 columns</p>\n",
       "</div>"
      ],
      "text/plain": [
       "                   Fatal  Incident  Minor  Non-Fatal  Serious  Unavailable  \\\n",
       "Unique_name                                                                  \n",
       "Learjet_36             0         1      0          0        0            0   \n",
       "Lockheed_WP-3D         0         1      0          0        0            0   \n",
       "Lockheed_L188C         0         1      0          0        0            0   \n",
       "Lockheed_L1011         0         1      0          0        0            0   \n",
       "Nunn_KR2               0         1      0          0        0            0   \n",
       "...                  ...       ...    ...        ...      ...          ...   \n",
       "Douglas_DC9-30         0         1      0          0        0            0   \n",
       "Embraer_EMB-11OP1      0         1      0          0        0            0   \n",
       "Embraer_EMB-145        0         1      0          0        0            0   \n",
       "Embraer_EMB-110P1      0         1      0          0        0            0   \n",
       "Embraer_145            0         1      0          0        0            0   \n",
       "\n",
       "                   missing  \n",
       "Unique_name                 \n",
       "Learjet_36               0  \n",
       "Lockheed_WP-3D           0  \n",
       "Lockheed_L188C           0  \n",
       "Lockheed_L1011           0  \n",
       "Nunn_KR2                 0  \n",
       "...                    ...  \n",
       "Douglas_DC9-30           0  \n",
       "Embraer_EMB-11OP1        0  \n",
       "Embraer_EMB-145          0  \n",
       "Embraer_EMB-110P1        0  \n",
       "Embraer_145              0  \n",
       "\n",
       "[93 rows x 7 columns]"
      ]
     },
     "execution_count": 175,
     "metadata": {},
     "output_type": "execute_result"
    }
   ],
   "source": [
    "# filter to get normal incidents without injuries\n",
    "check_severity_df = check_severity_df[check_severity_df['Incident'] != 0]\n",
    "check_severity_df"
   ]
  },
  {
   "cell_type": "markdown",
   "metadata": {},
   "source": [
    "We are down to 93 aircrafts which only have Incidents cases that recorded no injuries\n",
    "\n"
   ]
  },
  {
   "cell_type": "markdown",
   "metadata": {},
   "source": [
    "#### Filtering to remove amateur built aircrafts to ensure only professional aircrafts"
   ]
  },
  {
   "cell_type": "code",
   "execution_count": 198,
   "metadata": {},
   "outputs": [],
   "source": [
    "amateur_built = set(df[df['Amateur.Built'] == 'Yes']['Unique_name'])"
   ]
  },
  {
   "cell_type": "code",
   "execution_count": 177,
   "metadata": {},
   "outputs": [],
   "source": [
    "# check to remove amateur built\n",
    "amateur_present = set(check_severity_df.index) & amateur_built"
   ]
  },
  {
   "cell_type": "code",
   "execution_count": 179,
   "metadata": {},
   "outputs": [
    {
     "data": {
      "text/html": [
       "<div>\n",
       "<style scoped>\n",
       "    .dataframe tbody tr th:only-of-type {\n",
       "        vertical-align: middle;\n",
       "    }\n",
       "\n",
       "    .dataframe tbody tr th {\n",
       "        vertical-align: top;\n",
       "    }\n",
       "\n",
       "    .dataframe thead th {\n",
       "        text-align: right;\n",
       "    }\n",
       "</style>\n",
       "<table border=\"1\" class=\"dataframe\">\n",
       "  <thead>\n",
       "    <tr style=\"text-align: right;\">\n",
       "      <th></th>\n",
       "      <th>Fatal</th>\n",
       "      <th>Incident</th>\n",
       "      <th>Minor</th>\n",
       "      <th>Non-Fatal</th>\n",
       "      <th>Serious</th>\n",
       "      <th>Unavailable</th>\n",
       "      <th>missing</th>\n",
       "    </tr>\n",
       "    <tr>\n",
       "      <th>Unique_name</th>\n",
       "      <th></th>\n",
       "      <th></th>\n",
       "      <th></th>\n",
       "      <th></th>\n",
       "      <th></th>\n",
       "      <th></th>\n",
       "      <th></th>\n",
       "    </tr>\n",
       "  </thead>\n",
       "  <tbody>\n",
       "    <tr>\n",
       "      <th>Learjet_36</th>\n",
       "      <td>0</td>\n",
       "      <td>1</td>\n",
       "      <td>0</td>\n",
       "      <td>0</td>\n",
       "      <td>0</td>\n",
       "      <td>0</td>\n",
       "      <td>0</td>\n",
       "    </tr>\n",
       "    <tr>\n",
       "      <th>Lockheed_WP-3D</th>\n",
       "      <td>0</td>\n",
       "      <td>1</td>\n",
       "      <td>0</td>\n",
       "      <td>0</td>\n",
       "      <td>0</td>\n",
       "      <td>0</td>\n",
       "      <td>0</td>\n",
       "    </tr>\n",
       "    <tr>\n",
       "      <th>Lockheed_L188C</th>\n",
       "      <td>0</td>\n",
       "      <td>1</td>\n",
       "      <td>0</td>\n",
       "      <td>0</td>\n",
       "      <td>0</td>\n",
       "      <td>0</td>\n",
       "      <td>0</td>\n",
       "    </tr>\n",
       "    <tr>\n",
       "      <th>Lockheed_L1011</th>\n",
       "      <td>0</td>\n",
       "      <td>1</td>\n",
       "      <td>0</td>\n",
       "      <td>0</td>\n",
       "      <td>0</td>\n",
       "      <td>0</td>\n",
       "      <td>0</td>\n",
       "    </tr>\n",
       "    <tr>\n",
       "      <th>Nord Aviation_262A-12</th>\n",
       "      <td>0</td>\n",
       "      <td>1</td>\n",
       "      <td>0</td>\n",
       "      <td>0</td>\n",
       "      <td>0</td>\n",
       "      <td>0</td>\n",
       "      <td>0</td>\n",
       "    </tr>\n",
       "    <tr>\n",
       "      <th>...</th>\n",
       "      <td>...</td>\n",
       "      <td>...</td>\n",
       "      <td>...</td>\n",
       "      <td>...</td>\n",
       "      <td>...</td>\n",
       "      <td>...</td>\n",
       "      <td>...</td>\n",
       "    </tr>\n",
       "    <tr>\n",
       "      <th>Douglas_DC9-30</th>\n",
       "      <td>0</td>\n",
       "      <td>1</td>\n",
       "      <td>0</td>\n",
       "      <td>0</td>\n",
       "      <td>0</td>\n",
       "      <td>0</td>\n",
       "      <td>0</td>\n",
       "    </tr>\n",
       "    <tr>\n",
       "      <th>Embraer_EMB-11OP1</th>\n",
       "      <td>0</td>\n",
       "      <td>1</td>\n",
       "      <td>0</td>\n",
       "      <td>0</td>\n",
       "      <td>0</td>\n",
       "      <td>0</td>\n",
       "      <td>0</td>\n",
       "    </tr>\n",
       "    <tr>\n",
       "      <th>Embraer_EMB-145</th>\n",
       "      <td>0</td>\n",
       "      <td>1</td>\n",
       "      <td>0</td>\n",
       "      <td>0</td>\n",
       "      <td>0</td>\n",
       "      <td>0</td>\n",
       "      <td>0</td>\n",
       "    </tr>\n",
       "    <tr>\n",
       "      <th>Embraer_EMB-110P1</th>\n",
       "      <td>0</td>\n",
       "      <td>1</td>\n",
       "      <td>0</td>\n",
       "      <td>0</td>\n",
       "      <td>0</td>\n",
       "      <td>0</td>\n",
       "      <td>0</td>\n",
       "    </tr>\n",
       "    <tr>\n",
       "      <th>Embraer_145</th>\n",
       "      <td>0</td>\n",
       "      <td>1</td>\n",
       "      <td>0</td>\n",
       "      <td>0</td>\n",
       "      <td>0</td>\n",
       "      <td>0</td>\n",
       "      <td>0</td>\n",
       "    </tr>\n",
       "  </tbody>\n",
       "</table>\n",
       "<p>89 rows × 7 columns</p>\n",
       "</div>"
      ],
      "text/plain": [
       "                       Fatal  Incident  Minor  Non-Fatal  Serious  \\\n",
       "Unique_name                                                         \n",
       "Learjet_36                 0         1      0          0        0   \n",
       "Lockheed_WP-3D             0         1      0          0        0   \n",
       "Lockheed_L188C             0         1      0          0        0   \n",
       "Lockheed_L1011             0         1      0          0        0   \n",
       "Nord Aviation_262A-12      0         1      0          0        0   \n",
       "...                      ...       ...    ...        ...      ...   \n",
       "Douglas_DC9-30             0         1      0          0        0   \n",
       "Embraer_EMB-11OP1          0         1      0          0        0   \n",
       "Embraer_EMB-145            0         1      0          0        0   \n",
       "Embraer_EMB-110P1          0         1      0          0        0   \n",
       "Embraer_145                0         1      0          0        0   \n",
       "\n",
       "                       Unavailable  missing  \n",
       "Unique_name                                  \n",
       "Learjet_36                       0        0  \n",
       "Lockheed_WP-3D                   0        0  \n",
       "Lockheed_L188C                   0        0  \n",
       "Lockheed_L1011                   0        0  \n",
       "Nord Aviation_262A-12            0        0  \n",
       "...                            ...      ...  \n",
       "Douglas_DC9-30                   0        0  \n",
       "Embraer_EMB-11OP1                0        0  \n",
       "Embraer_EMB-145                  0        0  \n",
       "Embraer_EMB-110P1                0        0  \n",
       "Embraer_145                      0        0  \n",
       "\n",
       "[89 rows x 7 columns]"
      ]
     },
     "execution_count": 179,
     "metadata": {},
     "output_type": "execute_result"
    }
   ],
   "source": [
    "severity_checked_df = check_severity_df\n",
    "severity_checked_df"
   ]
  },
  {
   "cell_type": "markdown",
   "metadata": {},
   "source": [
    "we've now come down to 89 aircrafts but this are too many to recommend"
   ]
  },
  {
   "cell_type": "code",
   "execution_count": 180,
   "metadata": {},
   "outputs": [
    {
     "data": {
      "text/plain": [
       "Index(['Event.Id', 'Investigation.Type', 'Accident.Number', 'Event.Date',\n",
       "       'Location', 'Country', 'Airport.Code', 'Airport.Name',\n",
       "       'Injury.Severity', 'Aircraft.damage', 'Aircraft.Category',\n",
       "       'Registration.Number', 'Make', 'Model', 'Amateur.Built',\n",
       "       'Number.of.Engines', 'Engine.Type', 'Purpose.of.flight',\n",
       "       'Total.Fatal.Injuries', 'Total.Serious.Injuries',\n",
       "       'Total.Minor.Injuries', 'Total.Uninjured', 'Weather.Condition',\n",
       "       'Broad.phase.of.flight', 'Report.Status', 'Publication.Date',\n",
       "       'Unique_name', 'year', 'total_injuries'],\n",
       "      dtype='object')"
      ]
     },
     "execution_count": 180,
     "metadata": {},
     "output_type": "execute_result"
    }
   ],
   "source": [
    "df.columns"
   ]
  },
  {
   "cell_type": "markdown",
   "metadata": {},
   "source": [
    "### Filtering to get least Damaged\n"
   ]
  },
  {
   "cell_type": "code",
   "execution_count": 181,
   "metadata": {},
   "outputs": [
    {
     "data": {
      "text/plain": [
       "Substantial    21698\n",
       "Destroyed       3542\n",
       "missing         1279\n",
       "Minor            961\n",
       "Unknown          100\n",
       "Name: Aircraft.damage, dtype: int64"
      ]
     },
     "execution_count": 181,
     "metadata": {},
     "output_type": "execute_result"
    }
   ],
   "source": [
    "df['Aircraft.damage'].value_counts()"
   ]
  },
  {
   "cell_type": "code",
   "execution_count": 182,
   "metadata": {},
   "outputs": [
    {
     "data": {
      "text/html": [
       "<div>\n",
       "<style scoped>\n",
       "    .dataframe tbody tr th:only-of-type {\n",
       "        vertical-align: middle;\n",
       "    }\n",
       "\n",
       "    .dataframe tbody tr th {\n",
       "        vertical-align: top;\n",
       "    }\n",
       "\n",
       "    .dataframe thead th {\n",
       "        text-align: right;\n",
       "    }\n",
       "</style>\n",
       "<table border=\"1\" class=\"dataframe\">\n",
       "  <thead>\n",
       "    <tr style=\"text-align: right;\">\n",
       "      <th></th>\n",
       "      <th>Destroyed</th>\n",
       "      <th>Minor</th>\n",
       "      <th>Substantial</th>\n",
       "      <th>Unknown</th>\n",
       "      <th>missing</th>\n",
       "    </tr>\n",
       "    <tr>\n",
       "      <th>Unique_name</th>\n",
       "      <th></th>\n",
       "      <th></th>\n",
       "      <th></th>\n",
       "      <th></th>\n",
       "      <th></th>\n",
       "    </tr>\n",
       "  </thead>\n",
       "  <tbody>\n",
       "    <tr>\n",
       "      <th>Learjet_36</th>\n",
       "      <td>0</td>\n",
       "      <td>1</td>\n",
       "      <td>0</td>\n",
       "      <td>0</td>\n",
       "      <td>0</td>\n",
       "    </tr>\n",
       "    <tr>\n",
       "      <th>Lockheed_WP-3D</th>\n",
       "      <td>0</td>\n",
       "      <td>0</td>\n",
       "      <td>0</td>\n",
       "      <td>0</td>\n",
       "      <td>1</td>\n",
       "    </tr>\n",
       "    <tr>\n",
       "      <th>Lockheed_L188C</th>\n",
       "      <td>0</td>\n",
       "      <td>0</td>\n",
       "      <td>0</td>\n",
       "      <td>0</td>\n",
       "      <td>1</td>\n",
       "    </tr>\n",
       "    <tr>\n",
       "      <th>Lockheed_L1011</th>\n",
       "      <td>0</td>\n",
       "      <td>1</td>\n",
       "      <td>0</td>\n",
       "      <td>0</td>\n",
       "      <td>0</td>\n",
       "    </tr>\n",
       "    <tr>\n",
       "      <th>Nord Aviation_262A-12</th>\n",
       "      <td>0</td>\n",
       "      <td>1</td>\n",
       "      <td>0</td>\n",
       "      <td>0</td>\n",
       "      <td>0</td>\n",
       "    </tr>\n",
       "  </tbody>\n",
       "</table>\n",
       "</div>"
      ],
      "text/plain": [
       "                       Destroyed  Minor  Substantial  Unknown  missing\n",
       "Unique_name                                                           \n",
       "Learjet_36                     0      1            0        0        0\n",
       "Lockheed_WP-3D                 0      0            0        0        1\n",
       "Lockheed_L188C                 0      0            0        0        1\n",
       "Lockheed_L1011                 0      1            0        0        0\n",
       "Nord Aviation_262A-12          0      1            0        0        0"
      ]
     },
     "execution_count": 182,
     "metadata": {},
     "output_type": "execute_result"
    }
   ],
   "source": [
    "# Check damage \n",
    "damage_df = df.groupby(['Unique_name', 'Aircraft.damage']).size().unstack(fill_value=0)\n",
    "damage_df.columns.name = ''\n",
    "\n",
    "\n",
    "# use the severity checked df indexes\n",
    "damage_df = damage_df.loc[severity_checked_df.index, :]\n",
    "damage_df.head()"
   ]
  },
  {
   "cell_type": "markdown",
   "metadata": {},
   "source": [
    "We use the minor sub category"
   ]
  },
  {
   "cell_type": "code",
   "execution_count": 183,
   "metadata": {},
   "outputs": [],
   "source": [
    "# Filter to get aircrafts with only minor damages\n",
    "major_damage_columns = ['Destroyed', 'Substantial', 'Unknown', 'missing']\n",
    "minor_damage_df = damage_df.loc[damage_df.loc[:, major_damage_columns].sum(axis=1) == 0]"
   ]
  },
  {
   "cell_type": "code",
   "execution_count": 184,
   "metadata": {},
   "outputs": [
    {
     "data": {
      "text/plain": [
       "1"
      ]
     },
     "execution_count": 184,
     "metadata": {},
     "output_type": "execute_result"
    }
   ],
   "source": [
    "# Check Aircraft with least cases\n",
    "minor_damage_df['Minor'].min()"
   ]
  },
  {
   "cell_type": "code",
   "execution_count": 185,
   "metadata": {},
   "outputs": [
    {
     "data": {
      "text/plain": [
       "1    48\n",
       "Name: Minor, dtype: int64"
      ]
     },
     "execution_count": 185,
     "metadata": {},
     "output_type": "execute_result"
    }
   ],
   "source": [
    "minor_damage_df['Minor'].value_counts()"
   ]
  },
  {
   "cell_type": "markdown",
   "metadata": {},
   "source": [
    "Now we are down to 48 "
   ]
  },
  {
   "cell_type": "code",
   "execution_count": 186,
   "metadata": {},
   "outputs": [],
   "source": [
    "# Filtered to get minor damages only\n",
    "current_filtered_df = minor_damage_df"
   ]
  },
  {
   "cell_type": "code",
   "execution_count": 187,
   "metadata": {},
   "outputs": [
    {
     "data": {
      "text/plain": [
       "Index(['Event.Id', 'Investigation.Type', 'Accident.Number', 'Event.Date',\n",
       "       'Location', 'Country', 'Airport.Code', 'Airport.Name',\n",
       "       'Injury.Severity', 'Aircraft.damage', 'Aircraft.Category',\n",
       "       'Registration.Number', 'Make', 'Model', 'Amateur.Built',\n",
       "       'Number.of.Engines', 'Engine.Type', 'Purpose.of.flight',\n",
       "       'Total.Fatal.Injuries', 'Total.Serious.Injuries',\n",
       "       'Total.Minor.Injuries', 'Total.Uninjured', 'Weather.Condition',\n",
       "       'Broad.phase.of.flight', 'Report.Status', 'Publication.Date',\n",
       "       'Unique_name', 'year', 'total_injuries'],\n",
       "      dtype='object')"
      ]
     },
     "execution_count": 187,
     "metadata": {},
     "output_type": "execute_result"
    }
   ],
   "source": [
    "df.columns"
   ]
  },
  {
   "cell_type": "markdown",
   "metadata": {},
   "source": [
    "### Does Engine type affect the accidents and incidents\n",
    "we check to filter the lowest risk engine since different engines are associated different frequency of occurence of accidents or incidents"
   ]
  },
  {
   "cell_type": "code",
   "execution_count": 188,
   "metadata": {},
   "outputs": [
    {
     "data": {
      "text/plain": [
       "Reciprocating      20696\n",
       "missing             4213\n",
       "Turbo Prop          1366\n",
       "Turbo Fan            967\n",
       "Turbo Jet            158\n",
       "Unknown              151\n",
       "Geared Turbofan       12\n",
       "Turbo Shaft           11\n",
       "Electric               5\n",
       "UNK                    1\n",
       "Name: Engine.Type, dtype: int64"
      ]
     },
     "execution_count": 188,
     "metadata": {},
     "output_type": "execute_result"
    }
   ],
   "source": [
    "# Check engine categories\n",
    "df['Engine.Type'].value_counts()"
   ]
  },
  {
   "cell_type": "markdown",
   "metadata": {},
   "source": [
    "#### Grouping according to engine type\n",
    "This is to get the engine type associated with the least cases of incidents\n",
    "\n",
    "we can conclude that its the best engine"
   ]
  },
  {
   "cell_type": "code",
   "execution_count": 189,
   "metadata": {},
   "outputs": [],
   "source": [
    "# Group by engine type \n",
    "engine_type_df = df[['Engine.Type', 'Investigation.Type', 'Unique_name']]\n",
    "\n",
    "# get only incidents\n",
    "engine_incident_df = engine_type_df[engine_type_df['Investigation.Type'] == 'Incident']"
   ]
  },
  {
   "cell_type": "code",
   "execution_count": 190,
   "metadata": {},
   "outputs": [
    {
     "data": {
      "text/html": [
       "<div>\n",
       "<style scoped>\n",
       "    .dataframe tbody tr th:only-of-type {\n",
       "        vertical-align: middle;\n",
       "    }\n",
       "\n",
       "    .dataframe tbody tr th {\n",
       "        vertical-align: top;\n",
       "    }\n",
       "\n",
       "    .dataframe thead th {\n",
       "        text-align: right;\n",
       "    }\n",
       "</style>\n",
       "<table border=\"1\" class=\"dataframe\">\n",
       "  <thead>\n",
       "    <tr style=\"text-align: right;\">\n",
       "      <th></th>\n",
       "      <th>Engine.Type</th>\n",
       "      <th>incident_count</th>\n",
       "      <th>Unique_name</th>\n",
       "    </tr>\n",
       "  </thead>\n",
       "  <tbody>\n",
       "    <tr>\n",
       "      <th>5</th>\n",
       "      <td>Turbo Shaft</td>\n",
       "      <td>1</td>\n",
       "      <td>1</td>\n",
       "    </tr>\n",
       "    <tr>\n",
       "      <th>0</th>\n",
       "      <td>Geared Turbofan</td>\n",
       "      <td>12</td>\n",
       "      <td>12</td>\n",
       "    </tr>\n",
       "    <tr>\n",
       "      <th>3</th>\n",
       "      <td>Turbo Jet</td>\n",
       "      <td>40</td>\n",
       "      <td>40</td>\n",
       "    </tr>\n",
       "    <tr>\n",
       "      <th>6</th>\n",
       "      <td>Unknown</td>\n",
       "      <td>53</td>\n",
       "      <td>53</td>\n",
       "    </tr>\n",
       "    <tr>\n",
       "      <th>4</th>\n",
       "      <td>Turbo Prop</td>\n",
       "      <td>114</td>\n",
       "      <td>114</td>\n",
       "    </tr>\n",
       "  </tbody>\n",
       "</table>\n",
       "</div>"
      ],
      "text/plain": [
       "       Engine.Type  incident_count  Unique_name\n",
       "5      Turbo Shaft               1            1\n",
       "0  Geared Turbofan              12           12\n",
       "3        Turbo Jet              40           40\n",
       "6          Unknown              53           53\n",
       "4       Turbo Prop             114          114"
      ]
     },
     "execution_count": 190,
     "metadata": {},
     "output_type": "execute_result"
    }
   ],
   "source": [
    "# Group to get engine types with the most incidents\n",
    "engine_incident_count_df = engine_incident_df.groupby(['Engine.Type']).count().reset_index()\n",
    "\n",
    "# sort the df\n",
    "engine_incident_count_df.sort_values(by='Investigation.Type', inplace=True)\n",
    "\n",
    "# Rename the investigation type column\n",
    "engine_incident_count_df.rename(\n",
    "    columns=lambda x: 'incident_count' if x == 'Investigation.Type' else x,\n",
    "    inplace=True\n",
    ")\n",
    "engine_incident_count_df.head()"
   ]
  },
  {
   "cell_type": "markdown",
   "metadata": {},
   "source": [
    "## Plotting the Distribution of the incidents by engine type"
   ]
  },
  {
   "cell_type": "code",
   "execution_count": 191,
   "metadata": {},
   "outputs": [
    {
     "data": {
      "image/png": "[encoded data removed]",
      "text/plain": [
       "<Figure size 864x576 with 1 Axes>"
      ]
     },
     "metadata": {
      "needs_background": "light"
     },
     "output_type": "display_data"
    }
   ],
   "source": [
    "# plot the distribution of incidents by engine type\n",
    "fig, ax = plt.subplots(figsize=(12, 8))\n",
    "\n",
    "sns.barplot(data=engine_incident_count_df, x='Engine.Type', y='incident_count')\n",
    "ax.set_title('Distribution of incidents by Engine type');"
   ]
  },
  {
   "cell_type": "markdown",
   "metadata": {},
   "source": [
    "#### Checking the lowest risk engine type"
   ]
  },
  {
   "cell_type": "code",
   "execution_count": 199,
   "metadata": {},
   "outputs": [],
   "source": [
    "# Get Turbo Shaft Aircrafts\n",
    "engine_type_lowest_risk_series = engine_incident_df[\n",
    "    engine_incident_df['Engine.Type'] == engine_incident_count_df.iloc[0]['Engine.Type']\n",
    "]['Unique_name']"
   ]
  },
  {
   "cell_type": "code",
   "execution_count": 200,
   "metadata": {},
   "outputs": [
    {
     "data": {
      "text/plain": [
       "1"
      ]
     },
     "execution_count": 200,
     "metadata": {},
     "output_type": "execute_result"
    }
   ],
   "source": [
    "# Check how many in the series\n",
    "len(engine_type_lowest_risk_series)"
   ]
  },
  {
   "cell_type": "markdown",
   "metadata": {},
   "source": [
    "now we check if our filtered data has Aircrafts with the lowest risk engine type"
   ]
  },
  {
   "cell_type": "code",
   "execution_count": 194,
   "metadata": {},
   "outputs": [
    {
     "data": {
      "text/plain": [
       "0"
      ]
     },
     "execution_count": 194,
     "metadata": {},
     "output_type": "execute_result"
    }
   ],
   "source": [
    "# Check Turbo Shaft\n",
    "current_lowest_risk = set(engine_type_lowest_risk_series.values) & set(current_filtered_df.index)\n",
    "len(current_lowest_risk)"
   ]
  },
  {
   "cell_type": "markdown",
   "metadata": {},
   "source": [
    "No Airrcraft has the engine in our dat a so we uwe the second lowest risk type"
   ]
  },
  {
   "cell_type": "code",
   "execution_count": 201,
   "metadata": {},
   "outputs": [
    {
     "data": {
      "text/plain": [
       "0"
      ]
     },
     "execution_count": 201,
     "metadata": {},
     "output_type": "execute_result"
    }
   ],
   "source": [
    "# check Geared Turbofan\n",
    "engine_type_second_lowest_risk_series = engine_incident_df[\n",
    "    engine_incident_df['Engine.Type'] == engine_incident_count_df.iloc[1]['Engine.Type']\n",
    "]['Unique_name']\n",
    "\n",
    "current_lowest_risk = set(engine_type_second_lowest_risk_series.values) & set(current_filtered_df.index)\n",
    "len(current_lowest_risk)"
   ]
  },
  {
   "cell_type": "markdown",
   "metadata": {},
   "source": [
    "Still no, we go to the third lowest"
   ]
  },
  {
   "cell_type": "code",
   "execution_count": 204,
   "metadata": {},
   "outputs": [
    {
     "data": {
      "text/plain": [
       "2"
      ]
     },
     "execution_count": 204,
     "metadata": {},
     "output_type": "execute_result"
    }
   ],
   "source": [
    "# Check third_lowest risk engine type\n",
    "engine_type_third_lowest_risk_series = engine_incident_df[\n",
    "    engine_incident_df['Engine.Type'] == engine_incident_count_df.iloc[2]['Engine.Type']\n",
    "]['Unique_name']\n",
    "\n",
    "current_lowest_risk = set(engine_type_third_lowest_risk_series.values) & set(current_filtered_df.index)\n",
    "len(current_lowest_risk)"
   ]
  },
  {
   "cell_type": "markdown",
   "metadata": {},
   "source": [
    "Now we are down to two Aircrafts 🎉'🎉🎉\n",
    "\n",
    "This seems like a reasonable recommendation"
   ]
  },
  {
   "cell_type": "code",
   "execution_count": 197,
   "metadata": {},
   "outputs": [
    {
     "name": "stdout",
     "output_type": "stream",
     "text": [
      "Lowest Risk aircrafts are: {'Rockwell_NA-265-80', 'Boeing_B737-2H4'}\n"
     ]
    }
   ],
   "source": [
    "print(f'Lowest Risk aircrafts are: {current_lowest_risk}')"
   ]
  },
  {
   "cell_type": "markdown",
   "metadata": {},
   "source": [
    "# Final-Recommendation\n",
    "From our analysis we concluded to two Aircrafts \n",
    "\n",
    "|| **Make** | **Model** |\n",
    "|--|----------|-----------|\n",
    "|1. | Rockwell | NA-265-80 |\n",
    "|2. | Boeing | B737-2H4 |"
   ]
  }
 ],
 "metadata": {
  "kernelspec": {
   "display_name": "learn-env",
   "language": "python",
   "name": "python3"
  },
  "language_info": {
   "codemirror_mode": {
    "name": "ipython",
    "version": 3
   },
   "file_extension": ".py",
   "mimetype": "text/x-python",
   "name": "python",
   "nbconvert_exporter": "python",
   "pygments_lexer": "ipython3",
   "version": "3.8.5"
  }
 },
 "nbformat": 4,
 "nbformat_minor": 2
}
